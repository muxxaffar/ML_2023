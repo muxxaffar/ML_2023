{
  "cells": [
    {
      "cell_type": "markdown",
      "metadata": {
        "_cell_guid": "036bf2c0-c146-4c70-b29d-206db0fe91b0",
        "_uuid": "01d54760756dd2bc5c2a309f2862833c079a3303",
        "id": "W9JLwMDOznjB"
      },
      "source": [
        "<a id=\"1\"></a> <br>\n",
        "# INTRODUCTION\n",
        "* **Deep learning:** One of the machine learning technique that learns features directly from data.\n",
        "* **Why deep learning:** When the amounth of data is increased, machine learning techniques are insufficient in terms of performance and deep learning gives better performance like accuracy.\n",
        "<a href=\"http://ibb.co/m2bxcc\"><img src=\"http://preview.ibb.co/d3CEOH/1.png\" alt=\"1\" border=\"0\"></a>\n",
        "* **What is amounth of big:** It is hard to answer but intuitively 1 million sample is enough to say \"big amounth of data\"\n",
        "* **Usage fields of deep learning:** Speech recognition, image classification, natural language procession (nlp) or recommendation systems\n",
        "* **What is difference of deep learning from machine learning:**\n",
        "    * Machine learning covers deep learning.\n",
        "    * Features are given machine learning manually.\n",
        "    * On the other hand, deep learning learns features directly from data.\n",
        "<a href=\"http://ibb.co/f8Epqx\"><img src=\"http://preview.ibb.co/hgpNAx/2.png\" alt=\"2\" border=\"0\"></a>\n",
        "\n",
        "<br>Lets look at our data."
      ]
    },
    {
      "cell_type": "code",
      "execution_count": 5,
      "metadata": {
        "_cell_guid": "6fe1e8d5-b36d-4e39-9a9b-34618b5e275e",
        "_uuid": "79f18357b846d2cd91e0f7b2389e1dba8097cbdb",
        "id": "Tc1u9OYWznjE"
      },
      "outputs": [],
      "source": [
        "# This Python 3 environment comes with many helpful analytics libraries installed\n",
        "# It is defined by the kaggle/python docker image: https://github.com/kaggle/docker-python\n",
        "# For example, here's several helpful packages to load in\n",
        "\n",
        "import numpy as np # linear algebra\n",
        "import pandas as pd # data processing, CSV file I/O (e.g. pd.read_csv)\n",
        "import matplotlib.pyplot as plt\n",
        "# Input data files are available in the \"../input/\" directory.\n",
        "# For example, running this (by clicking run or pressing Shift+Enter) will list the files in the input directory\n",
        "# import warnings\n",
        "import warnings\n",
        "# filter warnings\n",
        "warnings.filterwarnings('ignore')\n",
        "\n",
        "# Any results you write to the current directory are saved as output."
      ]
    },
    {
      "cell_type": "markdown",
      "metadata": {
        "_cell_guid": "62bb7abd-122c-4f87-97ad-eb203e9dea1f",
        "_uuid": "3e3e94ca5c9349ac36416482d30af378966c7a8a",
        "id": "xzoQIlGHznjN"
      },
      "source": [
        "<a id=\"Overview the Data Set\"></a> <br>\n",
        "# Overview the Data Set\n",
        "* We will use \"sign language digits data set\" for this tutorial.\n",
        "* In this data there are 2062 sign language digits images.\n",
        "* As you know digits are from 0 to 9. Therefore there are 10 unique sign.\n",
        "* At the beginning of tutorial we will use only sign 0 and 1 for simplicity.\n",
        "* In data, sign zero is between indexes 204 and 408. Number of zero sign is 205.\n",
        "* Also sign one is between indexes 822 and 1027. Number of one sign is 206. Therefore, we will use 205 samples from each classes(labels).\n",
        "* Note: Actually 205 sample is very very very little for deep learning. But this is tutorial so it does not matter so much.\n",
        "* Lets prepare our X and Y arrays. X is image array (zero and one signs) and Y is label array (0 and 1)."
      ]
    },
    {
      "cell_type": "code",
      "execution_count": 6,
      "metadata": {
        "_cell_guid": "4768ce70-3e7f-4ac9-8764-642e88006b77",
        "_uuid": "d6b38399b27c2d723750c0b4f8787a7d6d0025ea",
        "colab": {
          "base_uri": "https://localhost:8080/",
          "height": 279
        },
        "id": "II3BI0YGznjQ",
        "outputId": "3a21684e-b70b-45f8-8e90-5232017ad715"
      },
      "outputs": [
        {
          "output_type": "execute_result",
          "data": {
            "text/plain": [
              "(-0.5, 63.5, 63.5, -0.5)"
            ]
          },
          "metadata": {},
          "execution_count": 6
        },
        {
          "output_type": "display_data",
          "data": {
            "text/plain": [
              "<Figure size 640x480 with 2 Axes>"
            ],
            "image/png": "[encoded data removed]"
          },
          "metadata": {}
        }
      ],
      "source": [
        "# load data set\n",
        "x_l = np.load('X.npy')\n",
        "Y_l = np.load('Y.npy')\n",
        "img_size = 64\n",
        "plt.subplot(1, 2, 1)\n",
        "plt.imshow(x_l[260].reshape(img_size, img_size))\n",
        "plt.axis('off')\n",
        "plt.subplot(1, 2, 2)\n",
        "plt.imshow(x_l[900].reshape(img_size, img_size))\n",
        "plt.axis('off')"
      ]
    },
    {
      "cell_type": "markdown",
      "metadata": {
        "_cell_guid": "1c9cf8f2-f318-4f69-b92e-9c1bfe78c2c7",
        "_uuid": "c12d1854c6f5fb43c8f081083a441585ed48dc93",
        "id": "uYH5PZWJznjS"
      },
      "source": [
        "* In order to create image array, I concatenate zero sign and one sign arrays\n",
        "* Then I create label array 0 for zero sign images and 1 for one sign images."
      ]
    },
    {
      "cell_type": "markdown",
      "source": [
        "## **CODE EXPLANATION IN ABOVE CELL**<br>\n",
        "**x_l= np.load('X.npy')**\n",
        "This line loads the data stored in the file 'X.npy' into the variable x_l. It is assumed that the data in the file is a NumPy array, containing images or image data.<br>\n",
        "**Y_l = np.load('Y.npy')**\n",
        "This line loads the data stored in the file 'Y.npy' into the variable Y_l. This might be the corresponding labels or any other related data to the images loaded in x_l.<br>\n",
        "**img_size = 64**\n",
        "\n",
        "This line assigns the value 64 to the variable img_size, which indicates the size (both height and width) to which the images will be reshaped.\n",
        "plt.subplot(1, 2, 1)\n",
        "\n",
        "This line creates a subplot arrangement with 1 row, 2 columns, and the current plot being the first one (position 1). Subplots allow you to display multiple plots in the same figure. <br>\n",
        "\n",
        "**plt.imshow(x_l[260].reshape(img_size, img_size))**\n",
        "\n",
        "This line displays an image from the x_l array. The image displayed is the one at index 260 in the array. Before displaying, it is reshaped to the size defined in img_size (64x64) using the reshape function. The imshow function from Matplotlib is then used to visualize the image. <br>\n",
        "\n",
        "**plt.axis('off')**\n",
        "\n",
        "This line turns off the axis ticks and labels for the current plot. It's done to remove the axis numbers and ticks, making the image more visually appealing.<br>\n",
        "**plt.subplot(1, 2, 2)**\n",
        "\n",
        "This line creates the second subplot in the arrangement, with the current plot being the second one (position 2).\n",
        "\n",
        "**plt.imshow(x_l[900].reshape(img_size, img_size))**\n",
        "\n",
        "This line is similar to line 5, but it displays a different image. The image shown is the one at index 900 in the x_l array, reshaped to the size defined in img_size.\n",
        "<br>\n"
      ],
      "metadata": {
        "id": "AyspmPP_4ihP"
      }
    },
    {
      "cell_type": "code",
      "execution_count": 11,
      "metadata": {
        "_cell_guid": "88a9b18b-12c7-46d6-8370-e2f02b55dd7a",
        "_uuid": "ad417f6189b0d9476388d92b6be09c887f7f1a40",
        "colab": {
          "base_uri": "https://localhost:8080/"
        },
        "id": "DckUTaojznjW",
        "outputId": "4dcb0954-fb1a-44f0-922f-58134be0ab49"
      },
      "outputs": [
        {
          "output_type": "stream",
          "name": "stdout",
          "text": [
            "X shape:  (410, 64, 64)\n",
            "Y shape:  (410, 1)\n"
          ]
        }
      ],
      "source": [
        "# Join a sequence of arrays along an row axis.\n",
        "X = np.concatenate((x_l[204:409], x_l[822:1027] ), axis=0) # from 0 to 204 is zero sign and from 205 to 410 is one sign\n",
        "z = np.zeros(205)\n",
        "o = np.ones(205)\n",
        "Y = np.concatenate((z, o), axis=0).reshape(X.shape[0],1)\n",
        "print(\"X shape: \" , X.shape)\n",
        "print(\"Y shape: \" , Y.shape)"
      ]
    },
    {
      "cell_type": "markdown",
      "metadata": {
        "_cell_guid": "d6024477-cf34-40f9-b079-8388b5146e1b",
        "_uuid": "a999c02e74af603d65a4442842d739aa351f593c",
        "id": "ZD8aDmBZznjY"
      },
      "source": [
        "* The shape of the X is (410, 64, 64)\n",
        "    * 410 means that we have 410 images (zero and one signs)\n",
        "    * 64 means that our image size is 64x64 (64x64 pixels)\n",
        "* The shape of the Y is (410,1)\n",
        "    *  410 means that we have 410 labels (0 and 1)\n",
        "* Lets split X and Y into train and test sets.\n",
        "    * test_size = percentage of test size. test = 15% and train = 75%\n",
        "    * random_state = use same seed while randomizing. It means that if we call train_test_split repeatedly, it always creates same train and test distribution because we have same random_state."
      ]
    },
    {
      "cell_type": "code",
      "execution_count": 12,
      "metadata": {
        "_cell_guid": "00db1f03-75d3-48dc-a6fb-824a58790d42",
        "_uuid": "82869efdb6890ede1899c1bc8c90fa8b1caceec3",
        "id": "59K14UDDznja"
      },
      "outputs": [],
      "source": [
        "# Then lets create x_train, y_train, x_test, y_test arrays\n",
        "from sklearn.model_selection import train_test_split\n",
        "X_train, X_test, Y_train, Y_test = train_test_split(X, Y, test_size=0.15, random_state=42)\n",
        "number_of_train = X_train.shape[0]\n",
        "number_of_test = X_test.shape[0]"
      ]
    },
    {
      "cell_type": "markdown",
      "metadata": {
        "_cell_guid": "4bb55e07-cabb-46ce-b21a-fe4a7b34995f",
        "_uuid": "e294dc952e7ba34569162a8965680ead8edd2834",
        "id": "mTtVwZeBznjc"
      },
      "source": [
        "* Now we have 3 dimensional input array (X) so we need to make it flatten (2D) in order to use as input for our first deep learning model.\n",
        "* Our label array (Y) is already flatten(2D) so we leave it like that.\n",
        "* Lets flatten X array(images array).\n",
        "\n",
        "* **number_of_train = X_train.shape[0]**\n",
        "\n",
        "This line calculates the number of samples in the training set (X_train). Since X_train is a NumPy array, we can use the shape attribute to get the dimensions of the array. In this case, X_train.shape[0] gives us the number of rows in X_train, which is equivalent to the number of training samples.\n",
        "\n",
        " * **number_of_test = X_test.shape[0]**\n",
        "\n",
        "This line calculates the number of samples in the testing set (X_test). Similar to the previous line, X_test.shape[0] gives us the number of rows in X_test, which is equivalent to the number of testing samples."
      ]
    },
    {
      "cell_type": "code",
      "execution_count": 13,
      "metadata": {
        "_cell_guid": "f5937123-1e16-4036-844b-f498ed42e504",
        "_uuid": "f8b7203144bc85873d960f765e2bb3e711b57f30",
        "colab": {
          "base_uri": "https://localhost:8080/"
        },
        "id": "PwC01ANyznje",
        "outputId": "624b1eb6-ce04-4fc1-c591-bd5ebefdea07"
      },
      "outputs": [
        {
          "output_type": "stream",
          "name": "stdout",
          "text": [
            "X train flatten (348, 4096)\n",
            "X test flatten (62, 4096)\n"
          ]
        }
      ],
      "source": [
        "X_train_flatten = X_train.reshape(number_of_train,X_train.shape[1]*X_train.shape[2])\n",
        "X_test_flatten = X_test .reshape(number_of_test,X_test.shape[1]*X_test.shape[2])\n",
        "print(\"X train flatten\",X_train_flatten.shape)\n",
        "print(\"X test flatten\",X_test_flatten.shape)"
      ]
    },
    {
      "cell_type": "markdown",
      "metadata": {
        "_cell_guid": "dab40a5b-e319-4807-a608-12065d860847",
        "_uuid": "cb26fc242ffcae8bf8f164d32dc9c5436e8312fc",
        "id": "ofAtFcfKznjg"
      },
      "source": [
        "* As you can see, we have 348 images and each image has 4096 pixels in image train array.\n",
        "* Also, we have 62 images and each image has 4096 pixels in image test array.\n",
        "* Then lets take transpose. You can say that WHYY, actually there is no technical answer. I just write the code(code that you will see oncoming parts) according to it :)\n",
        "\n"
      ]
    },
    {
      "cell_type": "code",
      "execution_count": 14,
      "metadata": {
        "_cell_guid": "ad9bee66-78f1-44ec-a114-465356b9cc7d",
        "_uuid": "88eef1b839ee51234a53da3ccb1e36a2e5e9a0e6",
        "colab": {
          "base_uri": "https://localhost:8080/"
        },
        "id": "dYoqss09znjh",
        "outputId": "299a949b-7c1f-47fc-e587-766971daff47"
      },
      "outputs": [
        {
          "output_type": "stream",
          "name": "stdout",
          "text": [
            "x train:  (4096, 348)\n",
            "x test:  (4096, 62)\n",
            "y train:  (1, 348)\n",
            "y test:  (1, 62)\n"
          ]
        }
      ],
      "source": [
        "x_train = X_train_flatten.T\n",
        "x_test = X_test_flatten.T\n",
        "y_train = Y_train.T\n",
        "y_test = Y_test.T\n",
        "print(\"x train: \",x_train.shape)\n",
        "print(\"x test: \",x_test.shape)\n",
        "print(\"y train: \",y_train.shape)\n",
        "print(\"y test: \",y_test.shape)"
      ]
    },
    {
      "cell_type": "markdown",
      "metadata": {
        "_cell_guid": "0dfdae4c-5c3e-4ebd-8714-2ecf974ef2fa",
        "_uuid": "ed7b18eea8062e401823686bb2f672e1c548fac0",
        "id": "zaCty52Qznji"
      },
      "source": [
        "<font color='purple'>\n",
        "What we did up to this point:\n",
        "* Choose our labels (classes) that are sign zero and sign one\n",
        "* Create and flatten train and test sets\n",
        "* Our final inputs(images) and outputs(labels or classes) looks like this:\n",
        "<a href=\"http://ibb.co/bWMK7c\"><img src=\"http://image.ibb.co/fOqCSc/3.png\" alt=\"3\" border=\"0\"></a>"
      ]
    },
    {
      "cell_type": "markdown",
      "metadata": {
        "_cell_guid": "8b5f8812-f21c-4936-91b9-d33048dec40b",
        "_uuid": "5f037b5d3f44a9bf139dddb7946c0b33cf7d0298",
        "collapsed": true,
        "id": "65sBbzwfznjk"
      },
      "source": [
        "<a id=\"3\"></a> <br>\n",
        "# Logistic Regression\n",
        "* When we talk about binary classification( 0 and 1 outputs) what comes to mind first is logistic regression.\n",
        "* However, in deep learning tutorial what to do with logistic regression there??\n",
        "* The answer is that  logistic regression is actually a very simple neural network.\n",
        "* By the way neural network and deep learning are same thing. When we will come artificial neural network, I will explain detailed the terms like \"deep\".\n",
        "* In order to understand logistic regression (simple deep learning) lets first learn computation graph."
      ]
    },
    {
      "cell_type": "markdown",
      "metadata": {
        "_cell_guid": "9db2d7f4-0393-47d2-bbf3-88600177b4d1",
        "_uuid": "e2f49564d7d487417546d3b1ce94bc63e6394632",
        "id": "LIBnKiF1znjm"
      },
      "source": [
        "<a id=\"4\"></a> <br>\n",
        "##  Computation Graph\n",
        "* Computation graphs are a nice way to think about mathematical expressions.\n",
        "* It is like visualization of  mathematical expressions.\n",
        "* For example we have $$c = \\sqrt{a^2 + b^2}$$\n",
        "* It's computational graph is this. As you can see we express math with graph.\n",
        "<a href=\"http://imgbb.com/\"><img src=\"http://image.ibb.co/hWn6Lx/d.jpg\" alt=\"d\" border=\"0\"></a>"
      ]
    },
    {
      "cell_type": "markdown",
      "metadata": {
        "_cell_guid": "7c968bd6-39d6-4497-add1-6fd1eb331659",
        "_uuid": "5060aff503466a5c54bcf76a545484abda032e03",
        "id": "TEVsKNvMznjo"
      },
      "source": [
        "* Now lets look at computation graph of logistic regression\n",
        "<a href=\"http://ibb.co/c574qx\"><img src=\"http://preview.ibb.co/cxP63H/5.jpg\" alt=\"5\" border=\"0\"></a>\n",
        "    * Parameters are weight and bias.\n",
        "    * Weights: coefficients of each pixels\n",
        "    * Bias: intercept\n",
        "    * z = (w.t)x + b  => z equals to (transpose of weights times input x) + bias\n",
        "    * In an other saying => z = b + px1*w1 + px2*w2 + ... + px4096*w4096\n",
        "    * y_head = sigmoid(z)\n",
        "    * Sigmoid function makes z between zero and one so that is probability. You can see sigmoid function in computation graph.\n",
        "* Why we use sigmoid function?\n",
        "    * It gives probabilistic result\n",
        "    * It is derivative so we can use it in gradient descent algorithm (we will see as soon.)\n",
        "* Lets make example:\n",
        "    * Lets say we find z = 4 and put z into sigmoid function. The result(y_head) is almost 0.9. It means that our classification result is 1 with 90% probability.\n",
        "* Now lets start with from beginning and examine each component of computation graph more detailed."
      ]
    },
    {
      "cell_type": "markdown",
      "metadata": {
        "_cell_guid": "b9ec7e1d-186b-4911-be80-bc856f43b689",
        "_uuid": "40c4a1af2372960d36b6649f5baf4915e9e16738",
        "id": "wvkIn89gznjq"
      },
      "source": [
        "<a id=\"5\"></a> <br>\n",
        "## Initializing parameters\n",
        "* As you know input is our images that has 4096 pixels(each image in x_train).\n",
        "* Each pixels have own weights.\n",
        "* The first step is multiplying each pixels with their own weights.\n",
        "* The question is that what is the initial value of weights?\n",
        "    * There are some techniques that I will explain at artificial neural network but for this time initial weights are 0.01.\n",
        "    * Okey, weights are 0.01 but what is the weight array shape? As you understand from computation graph of logistic regression, it is (4096,1)\n",
        "    * Also initial bias is 0.\n",
        "* Lets write some code. In order to use at coming topics like artificial neural network (ANN), I make definition(method)."
      ]
    },
    {
      "cell_type": "code",
      "execution_count": 15,
      "metadata": {
        "_cell_guid": "74d461fc-4aa9-4b76-bd26-43551cef138b",
        "_uuid": "f3be95b8ca86fea08336badabf563b5f8f59a142",
        "id": "jnPVc1h7znjr"
      },
      "outputs": [],
      "source": [
        "# short description and example of definition (def)\n",
        "def dummy(parameter):\n",
        "    dummy_parameter = parameter + 5\n",
        "    return dummy_parameter\n",
        "result = dummy(3)     # result = 8\n",
        "\n",
        "# lets initialize parameters\n",
        "# So what we need is dimension 4096 that is number of pixels as a parameter for our initialize method(def)\n",
        "def initialize_weights_and_bias(dimension):\n",
        "    w = np.full((dimension,1),0.01)\n",
        "    b = 0.0\n",
        "    return w, b"
      ]
    },
    {
      "cell_type": "code",
      "execution_count": 16,
      "metadata": {
        "_uuid": "d71d5b420ee146833d479781ea889eeebcb74e47",
        "id": "0Xk8uyZ0znjs"
      },
      "outputs": [],
      "source": [
        "#w,b = initialize_weights_and_bias(4096)"
      ]
    },
    {
      "cell_type": "markdown",
      "metadata": {
        "_cell_guid": "1fbf27d5-1f4b-4b94-a757-99e2becf54a0",
        "_uuid": "dde6fab55966b2de3dc808e03613df9bea7bb0d2",
        "id": "jgyMmDNRznju"
      },
      "source": [
        "<a id=\"6\"></a> <br>\n",
        "## Forward Propagation\n",
        "* The all steps from pixels to cost is called forward propagation\n",
        "    * z = (w.T)x + b => in this equation we know x that is pixel array, we know w (weights) and b (bias) so the rest is calculation. (T is transpose)\n",
        "    * Then we put z into sigmoid function that returns y_head(probability). When your mind is confused go and look at computation graph. Also equation of sigmoid function is in computation graph.\n",
        "    * Then we calculate loss(error) function.\n",
        "    * Cost function is summation of all loss(error).\n",
        "    * Lets start with z and the write sigmoid definition(method) that takes z as input parameter and returns y_head(probability)"
      ]
    },
    {
      "cell_type": "code",
      "execution_count": 17,
      "metadata": {
        "_cell_guid": "697be401-792b-46c0-8fe6-79cd65110419",
        "_uuid": "e024479bce9ce2022f65ffd586a6c29b124e7ab5",
        "id": "gRnEnc8iznjv"
      },
      "outputs": [],
      "source": [
        "# calculation of z\n",
        "#z = np.dot(w.T,x_train)+b\n",
        "def sigmoid(z):\n",
        "    y_head = 1/(1+np.exp(-z))\n",
        "    return y_head"
      ]
    },
    {
      "cell_type": "code",
      "execution_count": 18,
      "metadata": {
        "_uuid": "da7e0244449200eaf382507806f01901f1d281c8",
        "colab": {
          "base_uri": "https://localhost:8080/"
        },
        "id": "Xr65HY6eznjw",
        "outputId": "19c80aa1-18bf-42fb-e69c-34998657f865"
      },
      "outputs": [
        {
          "output_type": "execute_result",
          "data": {
            "text/plain": [
              "0.5"
            ]
          },
          "metadata": {},
          "execution_count": 18
        }
      ],
      "source": [
        "y_head = sigmoid(0)\n",
        "y_head"
      ]
    },
    {
      "cell_type": "markdown",
      "metadata": {
        "_cell_guid": "571dc02a-b25d-4726-ad2b-9661ae6783e2",
        "_uuid": "d67ca31d01cc8f03fdd862789454e4acf1b2033b",
        "id": "3IwFhGyeznjx"
      },
      "source": [
        "* As we write sigmoid method and calculate y_head. Lets learn what is loss(error) function\n",
        "* Lets make example, I put one image as input then multiply it with their weights and add bias term so I find z. Then put z into sigmoid method so I find y_head. Up to this point we know what we did. Then e.g y_head became 0.9 that is bigger than 0.5 so our prediction is image is sign one image. Okey every thing looks like fine. But, is our prediction is correct and how do we check whether it is correct or not? The answer is with loss(error) function:\n",
        "    * Mathematical expression of log loss(error) function is that:\n",
        "    <a href=\"https://imgbb.com/\"><img src=\"https://image.ibb.co/eC0JCK/duzeltme.jpg\" alt=\"duzeltme\" border=\"0\"></a>\n",
        "    * It says that if you make wrong prediction, loss(error) becomes big. **DENKLEM DUZELTME**\n",
        "        * Example: our real image is sign one and its label is 1 (y = 1), then we make prediction y_head = 1. When we put y and y_head into loss(error) equation the result is 0. We make correct prediction therefore our loss is 0. However, if we make wrong prediction like y_head = 0, loss(error) is infinity.\n",
        "* After that, the cost function is summation of loss function. Each image creates loss function. Cost function is summation of loss functions that is created by each input image.\n",
        "* Lets implement forward propagation.\n"
      ]
    },
    {
      "cell_type": "code",
      "execution_count": 19,
      "metadata": {
        "_cell_guid": "adbc7d22-8bba-48c1-b754-75c9d4f0543c",
        "_uuid": "447f1ee51819fdfeba0e1ce0b03449cb549510ed",
        "id": "BK92sOI5znjy"
      },
      "outputs": [],
      "source": [
        "# Forward propagation steps:\n",
        "# find z = w.T*x+b\n",
        "# y_head = sigmoid(z)\n",
        "# loss(error) = loss(y,y_head)\n",
        "# cost = sum(loss)\n",
        "def forward_propagation(w,b,x_train,y_train):\n",
        "    z = np.dot(w.T,x_train) + b\n",
        "    y_head = sigmoid(z) # probabilistic 0-1\n",
        "    loss = -y_train*np.log(y_head)-(1-y_train)*np.log(1-y_head)\n",
        "    cost = (np.sum(loss))/x_train.shape[1]      # x_train.shape[1]  is for scaling\n",
        "    return cost"
      ]
    },
    {
      "cell_type": "markdown",
      "metadata": {
        "_cell_guid": "b4700f54-c2c5-4a53-ad1f-7fd63f5cd2e9",
        "_uuid": "e577873215128f94fea2eb328de90a4f32b7f803",
        "id": "NAEOojHKznjz"
      },
      "source": [
        "<a id=\"7\"></a> <br>\n",
        "##  Optimization Algorithm with Gradient Descent\n",
        "* Well, now we know what is our cost that is error.\n",
        "* Therefore, we need to decrease cost because as we know if cost is high it means that we make wrong prediction.\n",
        "* Lets think first step, every thing starts with initializing weights and bias. Therefore cost is dependent with them.\n",
        "* In order to decrease cost, we need to update weights and bias.\n",
        "* In other words, our model needs to learn the parameters weights and bias that minimize cost function. This technique is called gradient descent.\n",
        "* Lets make an example:\n",
        "    * We have w = 5 and bias = 0 (so ignore bias for now). Then we make forward propagation and our cost function is 1.5.\n",
        "    * It looks like this. (red lines)\n",
        "    <a href=\"http://imgbb.com/\"><img src=\"http://image.ibb.co/dAaYJH/7.jpg\" alt=\"7\" border=\"0\"></a>\n",
        "    * As you can see from graph, we are not at minimum point of cost function. Therefore we need to go through minimum cost. Okey, lets update weight. ( the symbol := is updating)\n",
        "    * w := w - step. The question is what is this step? Step is slope1. Okey, it looks remarkable. In order to find minimum point, we can use slope1. Then lets say slope1 = 3 and update our weight. w := w - slope1 => w = 2.\n",
        "    * Now, our weight w is 2. As you remember, we need to find cost function with forward propagation again.\n",
        "    * Lets say according to forward propagation with w = 2, cost function is 0.4. Hmm, we are at right way because our cost function is decrease. We have new value for cost function that is cost = 0.4. Is that enough? Actually I do not know lets try one more step.\n",
        "    * Slope2 = 0.7 and w = 2. Lets update weight w : = w - step(slope2) => w = 1.3 that is new weight. So lets find new cost.\n",
        "    * Make one more forward propagation with w = 1.3 and our cost = 0.3. Okey, our cost even decreased, it looks like fine but is it enough or do we need to make one more step? The answer is again I do not know, lets try.\n",
        "    * Slope3 = 0.01 and w = 1.3. Updating weight w := w - step(slope3) => w = 1.29 ~ 1.3. So weight does not change because we find minimum point of cost function.\n",
        "    * Everything looks like good but how we find slope? If you remember from high school or university, in order to find slope of function(cost function) at given point(at given weight) we take derivative of function at given point. Also you can ask that okey well we find slope but how it knows where it go. You can say that it can go more higher cost values instead of going minimum point. The asnwer is that slope(derivative) gives both step and direction of step. Therefore do not worry :)\n",
        "    * Update equation is this. It says that there is a cost function(takes weight and bias). Take derivative of cost function according to weight and bias. Then multiply it with  α learning rate. Then update weight. (In order to explain I ignore bias but these all steps will be applied for bias)\n",
        "    <a href=\"http://imgbb.com/\"><img src=\"http://image.ibb.co/hYTTJH/8.jpg\" alt=\"8\" border=\"0\"></a>\n",
        "    * Now, I am sure you are asking what is learning rate that I mentioned never. It is very simple term that determines learning rate. Hovewer there is tradeoff between learning fast and never learning. For example you are at Paris(current cost) and want to go Madrid(minimum cost). If your speed(learning rate) is small, you can go Madrid very slowly and it takes too long time. On ther other hand, if your speed(learning rate) is big, you can go very fast but maybe you make crash and never go to Madrid. Therefore, we need to choose wisely our speed(learning rate).\n",
        "    * Learning rate is also called hyperparameter that need to be chosen and tuned. I will explain it more detailed in artificial neural network with other hyperparameters. For now just say learning rate is 1 for our previous example.\n",
        "  \n",
        "* I think now you understand the logic behind forward propagation(from weights and bias to cost) and backward propagation(from cost to weights and bias to update them). Also you learn gradient descent. Before implementing the code you need to learn one more thing that is how we take derivative of cost function according to weights and bias. It is not related with python or coding. It is pure mathematic. There are two option first one is to google how to take derivative of log loss function and second one is even to google what is derivative of log loss function :) I choose second one because I cannot explain math without talking :)\n",
        "$$ \\frac{\\partial J}{\\partial w} = \\frac{1}{m}x(  y_head - y)^T$$\n",
        "$$ \\frac{\\partial J}{\\partial b} = \\frac{1}{m} \\sum_{i=1}^m (y_head-y)$$"
      ]
    },
    {
      "cell_type": "code",
      "execution_count": 20,
      "metadata": {
        "_cell_guid": "2b74bb7c-bcbe-4865-ac61-25ced274e7de",
        "_uuid": "088f192f99d2a31f041116c893ec713ef3b4fe43",
        "id": "ZaqubHwKznj1"
      },
      "outputs": [],
      "source": [
        "# In backward propagation we will use y_head that found in forward progation\n",
        "# Therefore instead of writing backward propagation method, lets combine forward propagation and backward propagation\n",
        "def forward_backward_propagation(w,b,x_train,y_train):\n",
        "    # forward propagation\n",
        "    z = np.dot(w.T,x_train) + b\n",
        "    y_head = sigmoid(z)\n",
        "    loss = -y_train*np.log(y_head)-(1-y_train)*np.log(1-y_head)\n",
        "    cost = (np.sum(loss))/x_train.shape[1]      # x_train.shape[1]  is for scaling\n",
        "    # backward propagation\n",
        "    derivative_weight = (np.dot(x_train,((y_head-y_train).T)))/x_train.shape[1] # x_train.shape[1]  is for scaling\n",
        "    derivative_bias = np.sum(y_head-y_train)/x_train.shape[1]                 # x_train.shape[1]  is for scaling\n",
        "    gradients = {\"derivative_weight\": derivative_weight,\"derivative_bias\": derivative_bias}\n",
        "    return cost,gradients"
      ]
    },
    {
      "cell_type": "markdown",
      "metadata": {
        "_cell_guid": "d82dbae8-d11e-4ea8-bbfe-545fee3166b3",
        "_uuid": "9e4d028259897e1565341736d58e46f70ea6b312",
        "id": "NgnFE8aWznj2"
      },
      "source": [
        "* Up to this point we learn\n",
        "    * Initializing parameters (implemented)\n",
        "    * Finding cost with forward propagation and cost function (implemented)\n",
        "    * Updating(learning) parameters (weight and bias). Now lets implement it."
      ]
    },
    {
      "cell_type": "code",
      "execution_count": 21,
      "metadata": {
        "_cell_guid": "0940e18d-636d-4503-a2c6-1994024726fe",
        "_uuid": "31299bda686ae2ab157ea18df70e4741e5225345",
        "id": "Nsa0FW9mznj3"
      },
      "outputs": [],
      "source": [
        "# Updating(learning) parameters\n",
        "def update(w, b, x_train, y_train, learning_rate,number_of_iterarion):\n",
        "    cost_list = []\n",
        "    cost_list2 = []\n",
        "    index = []\n",
        "    # updating(learning) parameters is number_of_iterarion times\n",
        "    for i in range(number_of_iterarion):\n",
        "        # make forward and backward propagation and find cost and gradients\n",
        "        cost,gradients = forward_backward_propagation(w,b,x_train,y_train)\n",
        "        cost_list.append(cost)\n",
        "        # lets update\n",
        "        w = w - learning_rate * gradients[\"derivative_weight\"]\n",
        "        b = b - learning_rate * gradients[\"derivative_bias\"]\n",
        "        if i % 10 == 0:\n",
        "            cost_list2.append(cost)\n",
        "            index.append(i)\n",
        "            print (\"Cost after iteration %i: %f\" %(i, cost))\n",
        "    # we update(learn) parameters weights and bias\n",
        "    parameters = {\"weight\": w,\"bias\": b}\n",
        "    plt.plot(index,cost_list2)\n",
        "    plt.xticks(index,rotation='vertical')\n",
        "    plt.xlabel(\"Number of Iterarion\")\n",
        "    plt.ylabel(\"Cost\")\n",
        "    plt.show()\n",
        "    return parameters, gradients, cost_list\n",
        "#parameters, gradients, cost_list = update(w, b, x_train, y_train, learning_rate = 0.009,number_of_iterarion = 200)"
      ]
    },
    {
      "cell_type": "markdown",
      "metadata": {
        "_cell_guid": "202a05c6-2187-40eb-9733-e4da792f04b6",
        "_uuid": "1892ccefd7debe1e9f59b500873b7afded3a4a01",
        "id": "2whi--9nznj4"
      },
      "source": [
        "* Woow, I get tired :) Up to this point we learn our parameters. It means we fit the data.\n",
        "* In order to predict we have parameters. Therefore, lets predict.\n",
        "* In prediction step we have x_test as a input and while using it, we make forward prediction."
      ]
    },
    {
      "cell_type": "code",
      "execution_count": 22,
      "metadata": {
        "_cell_guid": "1fd35d0f-e989-49fa-9bcb-1769d92a5ab4",
        "_uuid": "c9b80f081f49a722818cfebfc01e8b8dc69db9c1",
        "id": "_rQC9G3uznj5"
      },
      "outputs": [],
      "source": [
        " # prediction\n",
        "def predict(w,b,x_test):\n",
        "    # x_test is a input for forward propagation\n",
        "    z = sigmoid(np.dot(w.T,x_test)+b)\n",
        "    Y_prediction = np.zeros((1,x_test.shape[1]))\n",
        "    # if z is bigger than 0.5, our prediction is sign one (y_head=1),\n",
        "    # if z is smaller than 0.5, our prediction is sign zero (y_head=0),\n",
        "    for i in range(z.shape[1]):\n",
        "        if z[0,i]<= 0.5:\n",
        "            Y_prediction[0,i] = 0\n",
        "        else:\n",
        "            Y_prediction[0,i] = 1\n",
        "\n",
        "    return Y_prediction\n",
        "# predict(parameters[\"weight\"],parameters[\"bias\"],x_test)"
      ]
    },
    {
      "cell_type": "markdown",
      "metadata": {
        "_cell_guid": "ce815319-161b-408b-84fe-4bb1fab92d13",
        "_uuid": "40dbb73794b6b742b01e33038284aa9f11cc698c",
        "id": "I42huMiXznj6"
      },
      "source": [
        "* We make prediction.\n",
        "* Now lets put them all together."
      ]
    },
    {
      "cell_type": "code",
      "execution_count": 23,
      "metadata": {
        "_cell_guid": "029e2cd3-125b-4ca4-8b94-25d8164ba1a7",
        "_uuid": "81fb6989ff3860d72462f8212b1d00325272a471",
        "colab": {
          "base_uri": "https://localhost:8080/",
          "height": 757
        },
        "id": "aj8xdPZvznj7",
        "outputId": "cacc3aa9-1ac4-4234-8b29-0c3425547839"
      },
      "outputs": [
        {
          "output_type": "stream",
          "name": "stdout",
          "text": [
            "Cost after iteration 0: 14.014222\n",
            "Cost after iteration 10: 2.544689\n",
            "Cost after iteration 20: 2.577950\n",
            "Cost after iteration 30: 2.397999\n",
            "Cost after iteration 40: 2.185019\n",
            "Cost after iteration 50: 1.968348\n",
            "Cost after iteration 60: 1.754195\n",
            "Cost after iteration 70: 1.535079\n",
            "Cost after iteration 80: 1.297567\n",
            "Cost after iteration 90: 1.031919\n",
            "Cost after iteration 100: 0.737019\n",
            "Cost after iteration 110: 0.441355\n",
            "Cost after iteration 120: 0.252278\n",
            "Cost after iteration 130: 0.205168\n",
            "Cost after iteration 140: 0.196168\n"
          ]
        },
        {
          "output_type": "display_data",
          "data": {
            "text/plain": [
              "<Figure size 640x480 with 1 Axes>"
            ],
            "image/png": "[encoded data removed]"
          },
          "metadata": {}
        },
        {
          "output_type": "stream",
          "name": "stdout",
          "text": [
            "train accuracy: 92.816091954023 %\n",
            "test accuracy: 93.54838709677419 %\n"
          ]
        }
      ],
      "source": [
        "def logistic_regression(x_train, y_train, x_test, y_test, learning_rate ,  num_iterations):\n",
        "    # initialize\n",
        "    dimension =  x_train.shape[0]  # that is 4096\n",
        "    w,b = initialize_weights_and_bias(dimension)\n",
        "    # do not change learning rate\n",
        "    parameters, gradients, cost_list = update(w, b, x_train, y_train, learning_rate,num_iterations)\n",
        "\n",
        "    y_prediction_test = predict(parameters[\"weight\"],parameters[\"bias\"],x_test)\n",
        "    y_prediction_train = predict(parameters[\"weight\"],parameters[\"bias\"],x_train)\n",
        "\n",
        "    # Print train/test Errors\n",
        "    print(\"train accuracy: {} %\".format(100 - np.mean(np.abs(y_prediction_train - y_train)) * 100))\n",
        "    print(\"test accuracy: {} %\".format(100 - np.mean(np.abs(y_prediction_test - y_test)) * 100))\n",
        "\n",
        "logistic_regression(x_train, y_train, x_test, y_test,learning_rate = 0.01, num_iterations = 150)"
      ]
    },
    {
      "cell_type": "markdown",
      "metadata": {
        "_cell_guid": "6603c5a2-0a1b-4e4a-addd-a89be453e6fd",
        "_uuid": "1da3b972bab3207d2ba77f3d21516296f3e9be02",
        "id": "3up1rqISznj8"
      },
      "source": [
        "* We learn logic behind simple neural network(logistic regression) and how to implement it.\n",
        "* Now that we have learned logic, we can use sklearn library which is easier than implementing all steps with hand for logistic regression.\n",
        "\n",
        "\n"
      ]
    },
    {
      "cell_type": "markdown",
      "metadata": {
        "_cell_guid": "119db4ab-f04c-41c0-aef9-728565786e94",
        "_uuid": "ba8b9c960d1735b146fbbad378c90902e7218d59",
        "id": "qddGoQjgznj9"
      },
      "source": [
        "<a id=\"8\"></a> <br>\n",
        "## Logistic Regression with Sklearn\n",
        "* In sklearn library, there is a logistic regression method that ease implementing logistic regression.\n",
        "* I am not going to explain each parameter of logistic regression in sklear but if you want you can read from there http://scikit-learn.org/stable/modules/generated/sklearn.linear_model.LogisticRegression.html\n",
        "* The accuracies are different from what we find. Because logistic regression method use a lot of different feature that we do not use like different optimization parameters or regularization.\n",
        "* Lets make conclusion for logistic regression and continue with artificial neural network."
      ]
    },
    {
      "cell_type": "code",
      "execution_count": 24,
      "metadata": {
        "_cell_guid": "5bc37200-cd53-4da3-a2ef-c630cf1a2d10",
        "_uuid": "a13b1565f8a5ae234eaa9ed6da288103a3579938",
        "colab": {
          "base_uri": "https://localhost:8080/"
        },
        "id": "4t629g3xznj-",
        "outputId": "6672fbf6-4797-47e1-8f62-93e67275c36d"
      },
      "outputs": [
        {
          "output_type": "stream",
          "name": "stdout",
          "text": [
            "test accuracy: 0.967741935483871 \n",
            "train accuracy: 1.0 \n"
          ]
        }
      ],
      "source": [
        "from sklearn import linear_model\n",
        "logreg = linear_model.LogisticRegression(random_state = 42,max_iter= 150)\n",
        "print(\"test accuracy: {} \".format(logreg.fit(x_train.T, y_train.T).score(x_test.T, y_test.T)))\n",
        "print(\"train accuracy: {} \".format(logreg.fit(x_train.T, y_train.T).score(x_train.T, y_train.T)))"
      ]
    },
    {
      "cell_type": "markdown",
      "metadata": {
        "_cell_guid": "b889d43b-15c9-4f31-a4ff-c51c9b5ac077",
        "_uuid": "3379f61c2fb28d4f6e0e7b55fa31da22bab037a9",
        "id": "pq-DJNOtznj_"
      },
      "source": [
        "<a id=\"9\"></a> <br>\n",
        "## Summary and Questions in Minds\n",
        "<font color='purple'>\n",
        "What we did at this first part:\n",
        "* Initialize parameters weight and bias\n",
        "* Forward propagation\n",
        "* Loss function\n",
        "* Cost function\n",
        "* Backward propagation (gradient descent)\n",
        "* Prediction with learnt parameters weight and bias\n",
        "* Logistic regression with sklearn\n",
        "\n",
        "<br> If you have any question up to this point ask me please bacause we will contruct artificial neural network on logistic regression.\n",
        "<br> HOMEWORK: Here is good place to stop and make practice. Your homework is that create your own logistic regression method and classify two different sign language digits."
      ]
    },
    {
      "cell_type": "markdown",
      "metadata": {
        "_cell_guid": "a800aa00-7adf-4d10-83c1-3a5221219329",
        "_uuid": "dd0e970ce5194a34ca55b27b6580ef85714e1b92",
        "id": "O0uBHADNznkL"
      },
      "source": [
        "<a id=\"10\"></a> <br>\n",
        "# Artificial Neural Network (ANN)\n",
        "* It is also called deep neural network or deep learning.\n",
        "* **What is neural network:** It is basically taking logistic regression and repeating it at least 2 times.\n",
        "* In logistic regression, there are input and output layers. However, in neural network, there is at least one hidden layer between input and output layer.\n",
        "* **What is deep, in order to say \"deep\" how many layer do I need to have:** When I ask this question to my teacher, he said that \"\"Deep\" is a relative term; it of course refers to the \"depth\" of a network, meaning how many hidden layers it has. \"How deep is your swimming pool?\" could be 12 feet or it might be two feet; nevertheless, it still has a depth--it has the quality of \"deepness\". 32 years ago, I used two or three hidden layers. That was the limit for the specialized hardware of the day. Just a few years ago, 20 layers was considered pretty deep. In October, Andrew Ng mentioned 152 layers was (one of?) the biggest commercial networks he knew of. Last week, I talked to someone at a big, famous company who said he was using \"thousands\". So I prefer to just stick with \"How deep?\"\"\n",
        "* **Why it is called hidden:** Because hidden layer does not see inputs(training set)\n",
        "* For example you have input, one hidden and output layers. When someone ask you \"hey my friend how many layers do your neural network have?\" The answer is \"I have 2 layer neural network\". Because while computing layer number input layer is ignored.\n",
        "* Lets see 2 layer neural network:\n",
        "<a href=\"http://ibb.co/eF315x\"><img src=\"http://preview.ibb.co/dajVyH/9.jpg\" alt=\"9\" border=\"0\"></a>\n",
        "* Step by step we will learn this image.\n",
        "    * As you can see there is one hidden layer between input and output layers. And this hidden layer has 3 nodes. If yoube curious why I choose number of node 3, the answer is there is no reason, I only choose :). Number of node is hyperparameter like learning rate. Therefore we will see hyperparameters at the end of artificial neural network.\n",
        "    * Input and output layers do not change. They are same like logistic regression.\n",
        "    * In image, there is a tanh function that is unknown for you. It is a activation function like sigmoid function. Tanh activation function is better than sigmoid for hidden units bacause mean of its output is closer to zero so it centers the data better for the next layer. Also tanh activation function increase non linearity that cause our model learning better.\n",
        "    * As you can see with purple color there are two parts. Both parts are like logistic regression. The only difference is activation function, inputs and outputs.\n",
        "        * In logistic regression: input => output\n",
        "        * In 2 layer neural network: input => hidden layer => output. You can think that hidden layer is output of part 1 and input of part 2.\n",
        "* Thats all. We will follow the same path like logistic regression for 2 layer neural network.\n",
        "   \n",
        "    \n",
        "    "
      ]
    },
    {
      "cell_type": "markdown",
      "metadata": {
        "_cell_guid": "35b73665-27cb-48a7-abb1-0e0e6bc10ec0",
        "_uuid": "689a4a049579fff0c718bc30639f18e2dcab8ccc",
        "id": "U95lcgttznkM"
      },
      "source": [
        "<a id=\"11\"></a> <br>\n",
        "## 2-Layer Neural Network\n",
        "* Size of layers and initializing parameters weights and bias\n",
        "* Forward propagation\n",
        "* Loss function and Cost function\n",
        "* Backward propagation\n",
        "* Update Parameters\n",
        "* Prediction with learnt parameters weight and bias\n",
        "* Create Model"
      ]
    },
    {
      "cell_type": "markdown",
      "metadata": {
        "_cell_guid": "bbfe8df0-bf38-4842-aec1-c04417a99420",
        "_uuid": "0a5e286cf360d579eb6e5d5f220dd1a17c458039",
        "id": "sQSpBjSMznky"
      },
      "source": [
        "<a id=\"12\"></a> <br>\n",
        "## Size of layers and initializing parameters weights and bias\n",
        "* For x_train that has 348 sample $x^{(348)}$:\n",
        "$$z^{[1] (348)} =  W^{[1]} x^{(348)} + b^{[1] (348)}$$\n",
        "$$a^{[1] (348)} = \\tanh(z^{[1] (348)})$$\n",
        "$$z^{[2] (348)} = W^{[2]} a^{[1] (348)} + b^{[2] (348)}$$\n",
        "$$\\hat{y}^{(348)} = a^{[2] (348)} = \\sigma(z^{ [2] (348)})$$\n",
        "\n",
        "* At logistic regression, we initialize weights 0.01 and bias 0. At this time, we initialize weights randomly. Because if we initialize parameters zero each neuron in the first hidden layer will perform the same comptation. Therefore, even after multiple iterartion of gradiet descent each neuron in the layer will be computing same things as other neurons. Therefore we initialize randomly. Also initial weights will be small. If they are very large initially, this will cause the inputs of the tanh to be very large, thus causing gradients to be close to zero. The optimization algorithm will be slow.\n",
        "* Bias can be zero initially."
      ]
    },
    {
      "cell_type": "code",
      "execution_count": 25,
      "metadata": {
        "_cell_guid": "089fd577-95a0-4218-9b53-72bf1c0ab206",
        "_uuid": "922670a74f6999885759399ebea8b10692796a29",
        "id": "Vez6TALKznkz"
      },
      "outputs": [],
      "source": [
        "# intialize parameters and layer sizes\n",
        "def initialize_parameters_and_layer_sizes_NN(x_train, y_train):\n",
        "    parameters = {\"weight1\": np.random.randn(3,x_train.shape[0]) * 0.1,\n",
        "                  \"bias1\": np.zeros((3,1)),\n",
        "                  \"weight2\": np.random.randn(y_train.shape[0],3) * 0.1,\n",
        "                  \"bias2\": np.zeros((y_train.shape[0],1))}\n",
        "    return parameters"
      ]
    },
    {
      "cell_type": "markdown",
      "metadata": {
        "_cell_guid": "65832cdf-7ee8-447b-a068-48ac2e46b49f",
        "_uuid": "66147bbafbe25dac498f3963ea8419126f624ce9",
        "id": "0T1dunk1znk0"
      },
      "source": [
        "<a id=\"13\"></a> <br>\n",
        "## Forward propagation\n",
        "* Forward propagation is almost same with logistic regression.\n",
        "* The only difference is we use tanh function and we make all process twice.\n",
        "* Also numpy has tanh function. So we do not need to implement it."
      ]
    },
    {
      "cell_type": "code",
      "execution_count": 26,
      "metadata": {
        "_cell_guid": "d64d6b90-7f14-453f-a401-4119504496e3",
        "_uuid": "41e1e2f1c7afff027ba0a9f9b2fdcbe312e9a194",
        "id": "S7INy_uVznk1"
      },
      "outputs": [],
      "source": [
        "\n",
        "def forward_propagation_NN(x_train, parameters):\n",
        "\n",
        "    Z1 = np.dot(parameters[\"weight1\"],x_train) +parameters[\"bias1\"]\n",
        "    A1 = np.tanh(Z1)\n",
        "    Z2 = np.dot(parameters[\"weight2\"],A1) + parameters[\"bias2\"]\n",
        "    A2 = sigmoid(Z2)\n",
        "\n",
        "    cache = {\"Z1\": Z1,\n",
        "             \"A1\": A1,\n",
        "             \"Z2\": Z2,\n",
        "             \"A2\": A2}\n",
        "\n",
        "    return A2, cache\n"
      ]
    },
    {
      "cell_type": "markdown",
      "metadata": {
        "_cell_guid": "30a0abc9-7ee0-4093-afd5-ae9d5b1fcd5e",
        "_uuid": "ee7a42ee207e222eed5c24b1bfbf2d6ce0cdec37",
        "id": "kXqsPWJoznk3"
      },
      "source": [
        "<a id=\"14\"></a> <br>\n",
        "## Loss function and Cost function\n",
        "* Loss and cost functions are same with logistic regression\n",
        "* Cross entropy function\n",
        "<a href=\"https://imgbb.com/\"><img src=\"https://image.ibb.co/nyR9LU/as.jpg\" alt=\"as\" border=\"0\"></a><br />"
      ]
    },
    {
      "cell_type": "code",
      "execution_count": 27,
      "metadata": {
        "_cell_guid": "24143d72-bc62-4f2d-b0cf-4f67a4016299",
        "_uuid": "b55887b28cffc8083a76af45d25957d4f3e9f6fa",
        "id": "VDSBUMYDznk4"
      },
      "outputs": [],
      "source": [
        "# Compute cost\n",
        "def compute_cost_NN(A2, Y, parameters):\n",
        "    logprobs = np.multiply(np.log(A2),Y)\n",
        "    cost = -np.sum(logprobs)/Y.shape[1]\n",
        "    return cost\n"
      ]
    },
    {
      "cell_type": "markdown",
      "metadata": {
        "_cell_guid": "39839772-976a-4e53-a2e0-07aa76c9bd98",
        "_uuid": "43767f9271e2b2b6e0c3560e414f3c0c596ffe2f",
        "id": "CHbeAkkjznk5"
      },
      "source": [
        "<a id=\"15\"></a> <br>\n",
        "## Backward propagation\n",
        "* As you know backward propagation means derivative.\n",
        "* If you want to learn (as I said I cannot explain without talking bc it is little confusing), please watch video in youtube.\n",
        "* However the logic is same, lets write code."
      ]
    },
    {
      "cell_type": "code",
      "execution_count": 28,
      "metadata": {
        "_cell_guid": "2fcfd3c4-f935-4272-a284-c2dbc2c35afb",
        "_uuid": "6bf7bce2e4413ecdc16ea778008eee4072738aab",
        "id": "AbKzLlPpznk6"
      },
      "outputs": [],
      "source": [
        "# Backward Propagation\n",
        "def backward_propagation_NN(parameters, cache, X, Y):\n",
        "\n",
        "    dZ2 = cache[\"A2\"]-Y\n",
        "    dW2 = np.dot(dZ2,cache[\"A1\"].T)/X.shape[1]\n",
        "    db2 = np.sum(dZ2,axis =1,keepdims=True)/X.shape[1]\n",
        "    dZ1 = np.dot(parameters[\"weight2\"].T,dZ2)*(1 - np.power(cache[\"A1\"], 2))\n",
        "    dW1 = np.dot(dZ1,X.T)/X.shape[1]\n",
        "    db1 = np.sum(dZ1,axis =1,keepdims=True)/X.shape[1]\n",
        "    grads = {\"dweight1\": dW1,\n",
        "             \"dbias1\": db1,\n",
        "             \"dweight2\": dW2,\n",
        "             \"dbias2\": db2}\n",
        "    return grads"
      ]
    },
    {
      "cell_type": "markdown",
      "metadata": {
        "_cell_guid": "af195fda-5649-4e6d-830e-72123f2726a8",
        "_uuid": "b1996782dc44fda7993407c9b5efee5d4fef46e4",
        "id": "Jnd5081Mznk7"
      },
      "source": [
        "<a id=\"16\"></a> <br>\n",
        "## Update Parameters\n",
        "* Updating parameters also same with logistic regression.\n",
        "* We actually do alot of work with logistic regression"
      ]
    },
    {
      "cell_type": "code",
      "execution_count": 29,
      "metadata": {
        "_cell_guid": "d9ae95d4-1d11-4293-822d-e1d5f0c16d1e",
        "_uuid": "facf2b475cb82e14dcc6be56b57fe2c3ad0b1a8f",
        "id": "g3LGF8UHznk8"
      },
      "outputs": [],
      "source": [
        "# update parameters\n",
        "def update_parameters_NN(parameters, grads, learning_rate = 0.01):\n",
        "    parameters = {\"weight1\": parameters[\"weight1\"]-learning_rate*grads[\"dweight1\"],\n",
        "                  \"bias1\": parameters[\"bias1\"]-learning_rate*grads[\"dbias1\"],\n",
        "                  \"weight2\": parameters[\"weight2\"]-learning_rate*grads[\"dweight2\"],\n",
        "                  \"bias2\": parameters[\"bias2\"]-learning_rate*grads[\"dbias2\"]}\n",
        "\n",
        "    return parameters"
      ]
    },
    {
      "cell_type": "markdown",
      "metadata": {
        "_cell_guid": "ac416480-ec9c-45b4-ac9d-1caeded9ba90",
        "_uuid": "9c471502563017fabb991494359091215e4ad583",
        "id": "DIf-6_5Qznk9"
      },
      "source": [
        "<a id=\"17\"></a> <br>\n",
        "## Prediction with learnt parameters weight and bias\n",
        "* Lets write predict method that is like logistic regression."
      ]
    },
    {
      "cell_type": "code",
      "execution_count": 30,
      "metadata": {
        "_cell_guid": "96004eb5-d6ca-41ab-a577-70fb0628a2f4",
        "_uuid": "53c00c4430c6fcc3298dde8de804cab71884caa5",
        "id": "f18qOncNznk-"
      },
      "outputs": [],
      "source": [
        "# prediction\n",
        "def predict_NN(parameters,x_test):\n",
        "    # x_test is a input for forward propagation\n",
        "    A2, cache = forward_propagation_NN(x_test,parameters)\n",
        "    Y_prediction = np.zeros((1,x_test.shape[1]))\n",
        "    # if z is bigger than 0.5, our prediction is sign one (y_head=1),\n",
        "    # if z is smaller than 0.5, our prediction is sign zero (y_head=0),\n",
        "    for i in range(A2.shape[1]):\n",
        "        if A2[0,i]<= 0.5:\n",
        "            Y_prediction[0,i] = 0\n",
        "        else:\n",
        "            Y_prediction[0,i] = 1\n",
        "\n",
        "    return Y_prediction"
      ]
    },
    {
      "cell_type": "markdown",
      "metadata": {
        "_cell_guid": "d0df9e13-300b-4d5e-b8ec-f702ed0e06af",
        "_uuid": "94202fbc047d59fa5c8b81ba02962f1f3cc56d8f",
        "id": "4TUYSW30znk_"
      },
      "source": [
        "<a id=\"18\"></a> <br>\n",
        "## Create Model\n",
        "* Lets put them all together"
      ]
    },
    {
      "cell_type": "code",
      "execution_count": 31,
      "metadata": {
        "_cell_guid": "b66f3c28-0f71-4176-8a6b-35b98b0db936",
        "_uuid": "9babf239f800bedc9864c6a75677985d57f1cc78",
        "colab": {
          "base_uri": "https://localhost:8080/",
          "height": 940
        },
        "id": "-0CX1-IjznlA",
        "outputId": "45f13d0c-87bf-4056-dcc0-8f97efe6b79f"
      },
      "outputs": [
        {
          "output_type": "stream",
          "name": "stdout",
          "text": [
            "Cost after iteration 0: 0.394376\n",
            "Cost after iteration 100: 0.363946\n",
            "Cost after iteration 200: 0.343488\n",
            "Cost after iteration 300: 0.319842\n",
            "Cost after iteration 400: 0.287380\n",
            "Cost after iteration 500: 0.249330\n",
            "Cost after iteration 600: 0.210834\n",
            "Cost after iteration 700: 0.178967\n",
            "Cost after iteration 800: 0.154343\n",
            "Cost after iteration 900: 0.104744\n",
            "Cost after iteration 1000: 0.121039\n",
            "Cost after iteration 1100: 0.107050\n",
            "Cost after iteration 1200: 0.095146\n",
            "Cost after iteration 1300: 0.085003\n",
            "Cost after iteration 1400: 0.074861\n",
            "Cost after iteration 1500: 0.072154\n",
            "Cost after iteration 1600: 0.065529\n",
            "Cost after iteration 1700: 0.059806\n",
            "Cost after iteration 1800: 0.054915\n",
            "Cost after iteration 1900: 0.050981\n",
            "Cost after iteration 2000: 0.047788\n",
            "Cost after iteration 2100: 0.045087\n",
            "Cost after iteration 2200: 0.042733\n",
            "Cost after iteration 2300: 0.040643\n",
            "Cost after iteration 2400: 0.038757\n"
          ]
        },
        {
          "output_type": "display_data",
          "data": {
            "text/plain": [
              "<Figure size 640x480 with 1 Axes>"
            ],
            "image/png": "[encoded data removed]"
          },
          "metadata": {}
        },
        {
          "output_type": "stream",
          "name": "stdout",
          "text": [
            "train accuracy: 99.71264367816092 %\n",
            "test accuracy: 93.54838709677419 %\n"
          ]
        }
      ],
      "source": [
        "# 2 - Layer neural network\n",
        "def two_layer_neural_network(x_train, y_train,x_test,y_test, num_iterations):\n",
        "    cost_list = []\n",
        "    index_list = []\n",
        "    #initialize parameters and layer sizes\n",
        "    parameters = initialize_parameters_and_layer_sizes_NN(x_train, y_train)\n",
        "\n",
        "    for i in range(0, num_iterations):\n",
        "         # forward propagation\n",
        "        A2, cache = forward_propagation_NN(x_train,parameters)\n",
        "        # compute cost\n",
        "        cost = compute_cost_NN(A2, y_train, parameters)\n",
        "         # backward propagation\n",
        "        grads = backward_propagation_NN(parameters, cache, x_train, y_train)\n",
        "         # update parameters\n",
        "        parameters = update_parameters_NN(parameters, grads)\n",
        "\n",
        "        if i % 100 == 0:\n",
        "            cost_list.append(cost)\n",
        "            index_list.append(i)\n",
        "            print (\"Cost after iteration %i: %f\" %(i, cost))\n",
        "    plt.plot(index_list,cost_list)\n",
        "    plt.xticks(index_list,rotation='vertical')\n",
        "    plt.xlabel(\"Number of Iterarion\")\n",
        "    plt.ylabel(\"Cost\")\n",
        "    plt.show()\n",
        "\n",
        "    # predict\n",
        "    y_prediction_test = predict_NN(parameters,x_test)\n",
        "    y_prediction_train = predict_NN(parameters,x_train)\n",
        "\n",
        "    # Print train/test Errors\n",
        "    print(\"train accuracy: {} %\".format(100 - np.mean(np.abs(y_prediction_train - y_train)) * 100))\n",
        "    print(\"test accuracy: {} %\".format(100 - np.mean(np.abs(y_prediction_test - y_test)) * 100))\n",
        "    return parameters\n",
        "\n",
        "parameters = two_layer_neural_network(x_train, y_train,x_test,y_test, num_iterations=2500)"
      ]
    },
    {
      "cell_type": "markdown",
      "metadata": {
        "_cell_guid": "04d3b704-2fd4-410b-ad90-a5a0aedd4b7d",
        "_uuid": "62bb69efcf883ba22581dfc8d4f2e0eaa2d99ee3",
        "id": "fv2DyzFRznlB"
      },
      "source": [
        "<font color='purple'>\n",
        "Up to this point we create 2 layer neural network and learn how to implement\n",
        "* Size of layers and initializing parameters weights and bias\n",
        "* Forward propagation\n",
        "* Loss function and Cost function\n",
        "* Backward propagation\n",
        "* Update Parameters\n",
        "* Prediction with learnt parameters weight and bias\n",
        "* Create Model\n",
        "\n",
        "<br> Now lets learn how to implement L layer neural network with keras."
      ]
    },
    {
      "cell_type": "markdown",
      "metadata": {
        "_cell_guid": "c054ed2a-9dd9-498c-9be6-6e9b16ff5913",
        "_uuid": "aa2f896b72236e09687afc3c613a4fc801b16552",
        "id": "mjMRkYLGznlC"
      },
      "source": [
        "<a id=\"19\"></a> <br>\n",
        "# L Layer Neural Network\n",
        "* **What happens if number of hidden layer increase:** Earlier layerls can detect simple features.\n",
        "* When model composing simple features together in later layers of neural network that it can learn more and more complex functions. For example, lets look at our sign one.\n",
        "<a href=\"http://ibb.co/dNgDJH\"><img src=\"http://preview.ibb.co/mpD4Qx/10.jpg\" alt=\"10\" border=\"0\"></a>\n",
        "* For example first hidden layer learns edges or basic shapes like line. When number of layer increase, layers start to learn more complex things like convex shapes or characteristic features like forefinger.\n",
        "* Lets create our model\n",
        "    * There are some hyperparameters we need to choose like learning rate, number of iterations, number of hidden layer, number of hidden units, type of activation functions. Woww it is too much :)\n",
        "    * These hyperparameters can be chosen intiutively if you spend a lot of time in deep learning world.\n",
        "    * However, if you do not spend too much time, the best way is to google it but it is not necessary. You need to try hyperparameters to find best one.\n",
        "    * In this tutorial our model will have 2 hidden layer with 8 and4 nodes, respectively. Because when number of hidden layer and node increase, it takes too much time.\n",
        "    * As a activation function we will use relu(first hidden layer), relu(second hidden layer) and sigmoid(output layer) respectively.\n",
        "    * Number of iteration will be 100.\n",
        "* Our way is same with previous parts however as you learn the logic behind deep learning, we can ease our job and use keras library for deeper neural networks.\n",
        "* First lets reshape our x_train, x_test, y_train and y_test.\n",
        "\n",
        "    \n",
        "    "
      ]
    },
    {
      "cell_type": "code",
      "execution_count": 32,
      "metadata": {
        "_cell_guid": "631a05c4-e362-4fa0-9048-21c599f55344",
        "_uuid": "0a978924a68d423de4babe73c15412ad938c1858",
        "id": "2gpYo2PvznlE"
      },
      "outputs": [],
      "source": [
        "# reshaping\n",
        "x_train, x_test, y_train, y_test = x_train.T, x_test.T, y_train.T, y_test.T"
      ]
    },
    {
      "cell_type": "markdown",
      "metadata": {
        "_cell_guid": "e17b5a34-00dc-49a8-b7ac-a2bd3a753f78",
        "_uuid": "5a78a5570bc50180a02190dee46180f19eb165e1",
        "id": "jHB46g_JznlF"
      },
      "source": [
        "<a id=\"22\"></a> <br>\n",
        "## Implementing with keras library\n",
        "Lets look at some parameters of keras library:\n",
        "* units: output dimensions of node\n",
        "* kernel_initializer: to initialize weights\n",
        "* activation: activation function, we use relu\n",
        "* input_dim: input dimension that is number of pixels in our images (4096 px)\n",
        "* optimizer: we use adam optimizer\n",
        "    * Adam is one of the most effective optimization algorithms for training neural networks.\n",
        "    * Some advantages of Adam is that relatively low memory requirements and usually works well even with little tuning of hyperparameters\n",
        "* loss: Cost function is same. By the way the name of the cost function is cross-entropy cost function that we use previous parts.\n",
        "$$J = - \\frac{1}{m} \\sum\\limits_{i = 0}^{m} \\large\\left(\\small y^{(i)}\\log\\left(a^{[2] (i)}\\right) + (1-y^{(i)})\\log\\left(1- a^{[2] (i)}\\right)  \\large  \\right) \\small \\tag{6}$$\n",
        "* metrics: it is accuracy.\n",
        "* cross_val_score: use cross validation.\n",
        "* epochs: number of iteration"
      ]
    },
    {
      "cell_type": "code",
      "execution_count": 34,
      "metadata": {
        "_cell_guid": "8870c45b-b0fe-4050-a8af-41498a417ed5",
        "_uuid": "9361c3183a40fa0080055b7d5c1002aef68b4d77",
        "colab": {
          "base_uri": "https://localhost:8080/"
        },
        "id": "zc8QAkvPznlG",
        "outputId": "0f65f65f-c6d8-4316-cea6-3f265947ddbd"
      },
      "outputs": [
        {
          "output_type": "stream",
          "name": "stdout",
          "text": [
            "Epoch 1/100\n",
            "8/8 [==============================] - 1s 4ms/step - loss: 0.6933 - accuracy: 0.3966\n",
            "Epoch 2/100\n",
            "8/8 [==============================] - 0s 3ms/step - loss: 0.6931 - accuracy: 0.5431\n",
            "Epoch 3/100\n",
            "8/8 [==============================] - 0s 4ms/step - loss: 0.6929 - accuracy: 0.5431\n",
            "Epoch 4/100\n",
            "8/8 [==============================] - 0s 4ms/step - loss: 0.6928 - accuracy: 0.5431\n",
            "Epoch 5/100\n",
            "8/8 [==============================] - 0s 3ms/step - loss: 0.6927 - accuracy: 0.5431\n",
            "Epoch 6/100\n",
            "8/8 [==============================] - 0s 3ms/step - loss: 0.6925 - accuracy: 0.5431\n",
            "Epoch 7/100\n",
            "8/8 [==============================] - 0s 3ms/step - loss: 0.6924 - accuracy: 0.5431\n",
            "Epoch 8/100\n",
            "8/8 [==============================] - 0s 3ms/step - loss: 0.6923 - accuracy: 0.5431\n",
            "Epoch 9/100\n",
            "8/8 [==============================] - 0s 3ms/step - loss: 0.6921 - accuracy: 0.5431\n",
            "Epoch 10/100\n",
            "8/8 [==============================] - 0s 3ms/step - loss: 0.6921 - accuracy: 0.5431\n",
            "Epoch 11/100\n",
            "8/8 [==============================] - 0s 3ms/step - loss: 0.6920 - accuracy: 0.5431\n",
            "Epoch 12/100\n",
            "8/8 [==============================] - 0s 4ms/step - loss: 0.6918 - accuracy: 0.5431\n",
            "Epoch 13/100\n",
            "8/8 [==============================] - 0s 3ms/step - loss: 0.6918 - accuracy: 0.5431\n",
            "Epoch 14/100\n",
            "8/8 [==============================] - 0s 3ms/step - loss: 0.6916 - accuracy: 0.5431\n",
            "Epoch 15/100\n",
            "8/8 [==============================] - 0s 5ms/step - loss: 0.6916 - accuracy: 0.5431\n",
            "Epoch 16/100\n",
            "8/8 [==============================] - 0s 4ms/step - loss: 0.6915 - accuracy: 0.5431\n",
            "Epoch 17/100\n",
            "8/8 [==============================] - 0s 3ms/step - loss: 0.6914 - accuracy: 0.5431\n",
            "Epoch 18/100\n",
            "8/8 [==============================] - 0s 3ms/step - loss: 0.6913 - accuracy: 0.5431\n",
            "Epoch 19/100\n",
            "8/8 [==============================] - 0s 3ms/step - loss: 0.6912 - accuracy: 0.5431\n",
            "Epoch 20/100\n",
            "8/8 [==============================] - 0s 3ms/step - loss: 0.6912 - accuracy: 0.5431\n",
            "Epoch 21/100\n",
            "8/8 [==============================] - 0s 3ms/step - loss: 0.6910 - accuracy: 0.5431\n",
            "Epoch 22/100\n",
            "8/8 [==============================] - 0s 3ms/step - loss: 0.6910 - accuracy: 0.5431\n",
            "Epoch 23/100\n",
            "8/8 [==============================] - 0s 3ms/step - loss: 0.6909 - accuracy: 0.5431\n",
            "Epoch 24/100\n",
            "8/8 [==============================] - 0s 3ms/step - loss: 0.6909 - accuracy: 0.5431\n",
            "Epoch 25/100\n",
            "8/8 [==============================] - 0s 3ms/step - loss: 0.6909 - accuracy: 0.5431\n",
            "Epoch 26/100\n",
            "8/8 [==============================] - 0s 4ms/step - loss: 0.6908 - accuracy: 0.5431\n",
            "Epoch 27/100\n",
            "8/8 [==============================] - 0s 4ms/step - loss: 0.6908 - accuracy: 0.5431\n",
            "Epoch 28/100\n",
            "8/8 [==============================] - 0s 5ms/step - loss: 0.6907 - accuracy: 0.5431\n",
            "Epoch 29/100\n",
            "8/8 [==============================] - 0s 4ms/step - loss: 0.6906 - accuracy: 0.5431\n",
            "Epoch 30/100\n",
            "8/8 [==============================] - 0s 4ms/step - loss: 0.6906 - accuracy: 0.5431\n",
            "Epoch 31/100\n",
            "8/8 [==============================] - 0s 4ms/step - loss: 0.6906 - accuracy: 0.5431\n",
            "Epoch 32/100\n",
            "8/8 [==============================] - 0s 3ms/step - loss: 0.6905 - accuracy: 0.5431\n",
            "Epoch 33/100\n",
            "8/8 [==============================] - 0s 3ms/step - loss: 0.6905 - accuracy: 0.5431\n",
            "Epoch 34/100\n",
            "8/8 [==============================] - 0s 4ms/step - loss: 0.6905 - accuracy: 0.5431\n",
            "Epoch 35/100\n",
            "8/8 [==============================] - 0s 3ms/step - loss: 0.6904 - accuracy: 0.5431\n",
            "Epoch 36/100\n",
            "8/8 [==============================] - 0s 4ms/step - loss: 0.6904 - accuracy: 0.5431\n",
            "Epoch 37/100\n",
            "8/8 [==============================] - 0s 4ms/step - loss: 0.6904 - accuracy: 0.5431\n",
            "Epoch 38/100\n",
            "8/8 [==============================] - 0s 4ms/step - loss: 0.6903 - accuracy: 0.5431\n",
            "Epoch 39/100\n",
            "8/8 [==============================] - 0s 4ms/step - loss: 0.6903 - accuracy: 0.5431\n",
            "Epoch 40/100\n",
            "8/8 [==============================] - 0s 3ms/step - loss: 0.6902 - accuracy: 0.5431\n",
            "Epoch 41/100\n",
            "8/8 [==============================] - 0s 4ms/step - loss: 0.6902 - accuracy: 0.5431\n",
            "Epoch 42/100\n",
            "8/8 [==============================] - 0s 4ms/step - loss: 0.6902 - accuracy: 0.5431\n",
            "Epoch 43/100\n",
            "8/8 [==============================] - 0s 4ms/step - loss: 0.6901 - accuracy: 0.5431\n",
            "Epoch 44/100\n",
            "8/8 [==============================] - 0s 3ms/step - loss: 0.6901 - accuracy: 0.5431\n",
            "Epoch 45/100\n",
            "8/8 [==============================] - 0s 4ms/step - loss: 0.6901 - accuracy: 0.5431\n",
            "Epoch 46/100\n",
            "8/8 [==============================] - 0s 3ms/step - loss: 0.6900 - accuracy: 0.5431\n",
            "Epoch 47/100\n",
            "8/8 [==============================] - 0s 3ms/step - loss: 0.6900 - accuracy: 0.5431\n",
            "Epoch 48/100\n",
            "8/8 [==============================] - 0s 5ms/step - loss: 0.6900 - accuracy: 0.5431\n",
            "Epoch 49/100\n",
            "8/8 [==============================] - 0s 3ms/step - loss: 0.6900 - accuracy: 0.5431\n",
            "Epoch 50/100\n",
            "8/8 [==============================] - 0s 3ms/step - loss: 0.6899 - accuracy: 0.5431\n",
            "Epoch 51/100\n",
            "8/8 [==============================] - 0s 4ms/step - loss: 0.6899 - accuracy: 0.5431\n",
            "Epoch 52/100\n",
            "8/8 [==============================] - 0s 3ms/step - loss: 0.6899 - accuracy: 0.5431\n",
            "Epoch 53/100\n",
            "8/8 [==============================] - 0s 4ms/step - loss: 0.6899 - accuracy: 0.5431\n",
            "Epoch 54/100\n",
            "8/8 [==============================] - 0s 3ms/step - loss: 0.6899 - accuracy: 0.5431\n",
            "Epoch 55/100\n",
            "8/8 [==============================] - 0s 5ms/step - loss: 0.6899 - accuracy: 0.5431\n",
            "Epoch 56/100\n",
            "8/8 [==============================] - 0s 4ms/step - loss: 0.6899 - accuracy: 0.5431\n",
            "Epoch 57/100\n",
            "8/8 [==============================] - 0s 4ms/step - loss: 0.6899 - accuracy: 0.5431\n",
            "Epoch 58/100\n",
            "8/8 [==============================] - 0s 3ms/step - loss: 0.6898 - accuracy: 0.5431\n",
            "Epoch 59/100\n",
            "8/8 [==============================] - 0s 4ms/step - loss: 0.6898 - accuracy: 0.5431\n",
            "Epoch 60/100\n",
            "8/8 [==============================] - 0s 4ms/step - loss: 0.6898 - accuracy: 0.5431\n",
            "Epoch 61/100\n",
            "8/8 [==============================] - 0s 4ms/step - loss: 0.6898 - accuracy: 0.5431\n",
            "Epoch 62/100\n",
            "8/8 [==============================] - 0s 4ms/step - loss: 0.6897 - accuracy: 0.5431\n",
            "Epoch 63/100\n",
            "8/8 [==============================] - 0s 4ms/step - loss: 0.6897 - accuracy: 0.5431\n",
            "Epoch 64/100\n",
            "8/8 [==============================] - 0s 3ms/step - loss: 0.6897 - accuracy: 0.5431\n",
            "Epoch 65/100\n",
            "8/8 [==============================] - 0s 3ms/step - loss: 0.6897 - accuracy: 0.5431\n",
            "Epoch 66/100\n",
            "8/8 [==============================] - 0s 4ms/step - loss: 0.6896 - accuracy: 0.5431\n",
            "Epoch 67/100\n",
            "8/8 [==============================] - 0s 4ms/step - loss: 0.6896 - accuracy: 0.5431\n",
            "Epoch 68/100\n",
            "8/8 [==============================] - 0s 3ms/step - loss: 0.6896 - accuracy: 0.5431\n",
            "Epoch 69/100\n",
            "8/8 [==============================] - 0s 3ms/step - loss: 0.6896 - accuracy: 0.5431\n",
            "Epoch 70/100\n",
            "8/8 [==============================] - 0s 3ms/step - loss: 0.6896 - accuracy: 0.5431\n",
            "Epoch 71/100\n",
            "8/8 [==============================] - 0s 4ms/step - loss: 0.6896 - accuracy: 0.5431\n",
            "Epoch 72/100\n",
            "8/8 [==============================] - 0s 4ms/step - loss: 0.6896 - accuracy: 0.5431\n",
            "Epoch 73/100\n",
            "8/8 [==============================] - 0s 3ms/step - loss: 0.6896 - accuracy: 0.5431\n",
            "Epoch 74/100\n",
            "8/8 [==============================] - 0s 3ms/step - loss: 0.6896 - accuracy: 0.5431\n",
            "Epoch 75/100\n",
            "8/8 [==============================] - 0s 3ms/step - loss: 0.6896 - accuracy: 0.5431\n",
            "Epoch 76/100\n",
            "8/8 [==============================] - 0s 3ms/step - loss: 0.6896 - accuracy: 0.5431\n",
            "Epoch 77/100\n",
            "8/8 [==============================] - 0s 3ms/step - loss: 0.6896 - accuracy: 0.5431\n",
            "Epoch 78/100\n",
            "8/8 [==============================] - 0s 3ms/step - loss: 0.6896 - accuracy: 0.5431\n",
            "Epoch 79/100\n",
            "8/8 [==============================] - 0s 3ms/step - loss: 0.6896 - accuracy: 0.5431\n",
            "Epoch 80/100\n",
            "8/8 [==============================] - 0s 3ms/step - loss: 0.6896 - accuracy: 0.5431\n",
            "Epoch 81/100\n",
            "8/8 [==============================] - 0s 3ms/step - loss: 0.6896 - accuracy: 0.5431\n",
            "Epoch 82/100\n",
            "8/8 [==============================] - 0s 3ms/step - loss: 0.6896 - accuracy: 0.5431\n",
            "Epoch 83/100\n",
            "8/8 [==============================] - 0s 5ms/step - loss: 0.6896 - accuracy: 0.5431\n",
            "Epoch 84/100\n",
            "8/8 [==============================] - 0s 3ms/step - loss: 0.6896 - accuracy: 0.5431\n",
            "Epoch 85/100\n",
            "8/8 [==============================] - 0s 4ms/step - loss: 0.6896 - accuracy: 0.5431\n",
            "Epoch 86/100\n",
            "8/8 [==============================] - 0s 4ms/step - loss: 0.6896 - accuracy: 0.5431\n",
            "Epoch 87/100\n",
            "8/8 [==============================] - 0s 4ms/step - loss: 0.6896 - accuracy: 0.5431\n",
            "Epoch 88/100\n",
            "8/8 [==============================] - 0s 3ms/step - loss: 0.6895 - accuracy: 0.5431\n",
            "Epoch 89/100\n",
            "8/8 [==============================] - 0s 4ms/step - loss: 0.6896 - accuracy: 0.5431\n",
            "Epoch 90/100\n",
            "8/8 [==============================] - 0s 4ms/step - loss: 0.6896 - accuracy: 0.5431\n",
            "Epoch 91/100\n",
            "8/8 [==============================] - 0s 3ms/step - loss: 0.6896 - accuracy: 0.5431\n",
            "Epoch 92/100\n",
            "8/8 [==============================] - 0s 3ms/step - loss: 0.6896 - accuracy: 0.5431\n",
            "Epoch 93/100\n",
            "8/8 [==============================] - 0s 3ms/step - loss: 0.6895 - accuracy: 0.5431\n",
            "Epoch 94/100\n",
            "8/8 [==============================] - 0s 3ms/step - loss: 0.6895 - accuracy: 0.5431\n",
            "Epoch 95/100\n",
            "8/8 [==============================] - 0s 3ms/step - loss: 0.6895 - accuracy: 0.5431\n",
            "Epoch 96/100\n",
            "8/8 [==============================] - 0s 3ms/step - loss: 0.6895 - accuracy: 0.5431\n",
            "Epoch 97/100\n",
            "8/8 [==============================] - 0s 3ms/step - loss: 0.6895 - accuracy: 0.5431\n",
            "Epoch 98/100\n",
            "8/8 [==============================] - 0s 3ms/step - loss: 0.6895 - accuracy: 0.5431\n",
            "Epoch 99/100\n",
            "8/8 [==============================] - 0s 3ms/step - loss: 0.6895 - accuracy: 0.5431\n",
            "Epoch 100/100\n",
            "8/8 [==============================] - 0s 3ms/step - loss: 0.6895 - accuracy: 0.5431\n",
            "4/4 [==============================] - 0s 6ms/step - loss: 0.7059 - accuracy: 0.4310\n",
            "Epoch 1/100\n",
            "8/8 [==============================] - 1s 3ms/step - loss: 0.6935 - accuracy: 0.4612\n",
            "Epoch 2/100\n",
            "8/8 [==============================] - 0s 3ms/step - loss: 0.6930 - accuracy: 0.5086\n",
            "Epoch 3/100\n",
            "8/8 [==============================] - 0s 3ms/step - loss: 0.6928 - accuracy: 0.6078\n",
            "Epoch 4/100\n",
            "8/8 [==============================] - 0s 3ms/step - loss: 0.6924 - accuracy: 0.5043\n",
            "Epoch 5/100\n",
            "8/8 [==============================] - 0s 3ms/step - loss: 0.6918 - accuracy: 0.4957\n",
            "Epoch 6/100\n",
            "8/8 [==============================] - 0s 3ms/step - loss: 0.6902 - accuracy: 0.4828\n",
            "Epoch 7/100\n",
            "8/8 [==============================] - 0s 3ms/step - loss: 0.6873 - accuracy: 0.5043\n",
            "Epoch 8/100\n",
            "8/8 [==============================] - 0s 3ms/step - loss: 0.6832 - accuracy: 0.4914\n",
            "Epoch 9/100\n",
            "8/8 [==============================] - 0s 4ms/step - loss: 0.6777 - accuracy: 0.4957\n",
            "Epoch 10/100\n",
            "8/8 [==============================] - 0s 4ms/step - loss: 0.6676 - accuracy: 0.4828\n",
            "Epoch 11/100\n",
            "8/8 [==============================] - 0s 3ms/step - loss: 0.6580 - accuracy: 0.6681\n",
            "Epoch 12/100\n",
            "8/8 [==============================] - 0s 4ms/step - loss: 0.6422 - accuracy: 0.6767\n",
            "Epoch 13/100\n",
            "8/8 [==============================] - 0s 3ms/step - loss: 0.6315 - accuracy: 0.5431\n",
            "Epoch 14/100\n",
            "8/8 [==============================] - 0s 3ms/step - loss: 0.6167 - accuracy: 0.7931\n",
            "Epoch 15/100\n",
            "8/8 [==============================] - 0s 3ms/step - loss: 0.5859 - accuracy: 0.8534\n",
            "Epoch 16/100\n",
            "8/8 [==============================] - 0s 4ms/step - loss: 0.5473 - accuracy: 0.8405\n",
            "Epoch 17/100\n",
            "8/8 [==============================] - 0s 3ms/step - loss: 0.4977 - accuracy: 0.8922\n",
            "Epoch 18/100\n",
            "8/8 [==============================] - 0s 3ms/step - loss: 0.4488 - accuracy: 0.9353\n",
            "Epoch 19/100\n",
            "8/8 [==============================] - 0s 3ms/step - loss: 0.4134 - accuracy: 0.8836\n",
            "Epoch 20/100\n",
            "8/8 [==============================] - 0s 3ms/step - loss: 0.3720 - accuracy: 0.9181\n",
            "Epoch 21/100\n",
            "8/8 [==============================] - 0s 5ms/step - loss: 0.3193 - accuracy: 0.9397\n",
            "Epoch 22/100\n",
            "8/8 [==============================] - 0s 3ms/step - loss: 0.3093 - accuracy: 0.9224\n",
            "Epoch 23/100\n",
            "8/8 [==============================] - 0s 3ms/step - loss: 0.2629 - accuracy: 0.9353\n",
            "Epoch 24/100\n",
            "8/8 [==============================] - 0s 3ms/step - loss: 0.2382 - accuracy: 0.9483\n",
            "Epoch 25/100\n",
            "8/8 [==============================] - 0s 3ms/step - loss: 0.2218 - accuracy: 0.9397\n",
            "Epoch 26/100\n",
            "8/8 [==============================] - 0s 3ms/step - loss: 0.2009 - accuracy: 0.9526\n",
            "Epoch 27/100\n",
            "8/8 [==============================] - 0s 3ms/step - loss: 0.2225 - accuracy: 0.9353\n",
            "Epoch 28/100\n",
            "8/8 [==============================] - 0s 3ms/step - loss: 0.2030 - accuracy: 0.9181\n",
            "Epoch 29/100\n",
            "8/8 [==============================] - 0s 4ms/step - loss: 0.1912 - accuracy: 0.9267\n",
            "Epoch 30/100\n",
            "8/8 [==============================] - 0s 3ms/step - loss: 0.1680 - accuracy: 0.9526\n",
            "Epoch 31/100\n",
            "8/8 [==============================] - 0s 3ms/step - loss: 0.1502 - accuracy: 0.9655\n",
            "Epoch 32/100\n",
            "8/8 [==============================] - 0s 3ms/step - loss: 0.1470 - accuracy: 0.9655\n",
            "Epoch 33/100\n",
            "8/8 [==============================] - 0s 3ms/step - loss: 0.1380 - accuracy: 0.9698\n",
            "Epoch 34/100\n",
            "8/8 [==============================] - 0s 3ms/step - loss: 0.1293 - accuracy: 0.9784\n",
            "Epoch 35/100\n",
            "8/8 [==============================] - 0s 3ms/step - loss: 0.1312 - accuracy: 0.9655\n",
            "Epoch 36/100\n",
            "8/8 [==============================] - 0s 3ms/step - loss: 0.1232 - accuracy: 0.9698\n",
            "Epoch 37/100\n",
            "8/8 [==============================] - 0s 3ms/step - loss: 0.1142 - accuracy: 0.9784\n",
            "Epoch 38/100\n",
            "8/8 [==============================] - 0s 4ms/step - loss: 0.1199 - accuracy: 0.9612\n",
            "Epoch 39/100\n",
            "8/8 [==============================] - 0s 3ms/step - loss: 0.1114 - accuracy: 0.9784\n",
            "Epoch 40/100\n",
            "8/8 [==============================] - 0s 4ms/step - loss: 0.1110 - accuracy: 0.9612\n",
            "Epoch 41/100\n",
            "8/8 [==============================] - 0s 4ms/step - loss: 0.1067 - accuracy: 0.9741\n",
            "Epoch 42/100\n",
            "8/8 [==============================] - 0s 3ms/step - loss: 0.0972 - accuracy: 0.9784\n",
            "Epoch 43/100\n",
            "8/8 [==============================] - 0s 4ms/step - loss: 0.0942 - accuracy: 0.9784\n",
            "Epoch 44/100\n",
            "8/8 [==============================] - 0s 4ms/step - loss: 0.0888 - accuracy: 0.9698\n",
            "Epoch 45/100\n",
            "8/8 [==============================] - 0s 3ms/step - loss: 0.0894 - accuracy: 0.9741\n",
            "Epoch 46/100\n",
            "8/8 [==============================] - 0s 3ms/step - loss: 0.1067 - accuracy: 0.9741\n",
            "Epoch 47/100\n",
            "8/8 [==============================] - 0s 4ms/step - loss: 0.0914 - accuracy: 0.9741\n",
            "Epoch 48/100\n",
            "8/8 [==============================] - 0s 3ms/step - loss: 0.0901 - accuracy: 0.9655\n",
            "Epoch 49/100\n",
            "8/8 [==============================] - 0s 4ms/step - loss: 0.0806 - accuracy: 0.9828\n",
            "Epoch 50/100\n",
            "8/8 [==============================] - 0s 3ms/step - loss: 0.0840 - accuracy: 0.9828\n",
            "Epoch 51/100\n",
            "8/8 [==============================] - 0s 4ms/step - loss: 0.0791 - accuracy: 0.9784\n",
            "Epoch 52/100\n",
            "8/8 [==============================] - 0s 4ms/step - loss: 0.0958 - accuracy: 0.9612\n",
            "Epoch 53/100\n",
            "8/8 [==============================] - 0s 3ms/step - loss: 0.0695 - accuracy: 0.9828\n",
            "Epoch 54/100\n",
            "8/8 [==============================] - 0s 3ms/step - loss: 0.0751 - accuracy: 0.9828\n",
            "Epoch 55/100\n",
            "8/8 [==============================] - 0s 4ms/step - loss: 0.0726 - accuracy: 0.9871\n",
            "Epoch 56/100\n",
            "8/8 [==============================] - 0s 4ms/step - loss: 0.0759 - accuracy: 0.9741\n",
            "Epoch 57/100\n",
            "8/8 [==============================] - 0s 3ms/step - loss: 0.0681 - accuracy: 0.9871\n",
            "Epoch 58/100\n",
            "8/8 [==============================] - 0s 3ms/step - loss: 0.0629 - accuracy: 0.9871\n",
            "Epoch 59/100\n",
            "8/8 [==============================] - 0s 4ms/step - loss: 0.0577 - accuracy: 0.9871\n",
            "Epoch 60/100\n",
            "8/8 [==============================] - 0s 3ms/step - loss: 0.0529 - accuracy: 0.9828\n",
            "Epoch 61/100\n",
            "8/8 [==============================] - 0s 4ms/step - loss: 0.0541 - accuracy: 0.9828\n",
            "Epoch 62/100\n",
            "8/8 [==============================] - 0s 4ms/step - loss: 0.0487 - accuracy: 0.9871\n",
            "Epoch 63/100\n",
            "8/8 [==============================] - 0s 3ms/step - loss: 0.0490 - accuracy: 0.9828\n",
            "Epoch 64/100\n",
            "8/8 [==============================] - 0s 3ms/step - loss: 0.0496 - accuracy: 0.9871\n",
            "Epoch 65/100\n",
            "8/8 [==============================] - 0s 4ms/step - loss: 0.0518 - accuracy: 0.9914\n",
            "Epoch 66/100\n",
            "8/8 [==============================] - 0s 4ms/step - loss: 0.0485 - accuracy: 0.9914\n",
            "Epoch 67/100\n",
            "8/8 [==============================] - 0s 4ms/step - loss: 0.0522 - accuracy: 0.9784\n",
            "Epoch 68/100\n",
            "8/8 [==============================] - 0s 3ms/step - loss: 0.0524 - accuracy: 0.9828\n",
            "Epoch 69/100\n",
            "8/8 [==============================] - 0s 3ms/step - loss: 0.0430 - accuracy: 0.9914\n",
            "Epoch 70/100\n",
            "8/8 [==============================] - 0s 3ms/step - loss: 0.0490 - accuracy: 0.9914\n",
            "Epoch 71/100\n",
            "8/8 [==============================] - 0s 3ms/step - loss: 0.0345 - accuracy: 1.0000\n",
            "Epoch 72/100\n",
            "8/8 [==============================] - 0s 3ms/step - loss: 0.0517 - accuracy: 0.9871\n",
            "Epoch 73/100\n",
            "8/8 [==============================] - 0s 3ms/step - loss: 0.0369 - accuracy: 0.9957\n",
            "Epoch 74/100\n",
            "8/8 [==============================] - 0s 4ms/step - loss: 0.0323 - accuracy: 0.9957\n",
            "Epoch 75/100\n",
            "8/8 [==============================] - 0s 3ms/step - loss: 0.0406 - accuracy: 0.9871\n",
            "Epoch 76/100\n",
            "8/8 [==============================] - 0s 3ms/step - loss: 0.0340 - accuracy: 0.9914\n",
            "Epoch 77/100\n",
            "8/8 [==============================] - 0s 5ms/step - loss: 0.0318 - accuracy: 0.9957\n",
            "Epoch 78/100\n",
            "8/8 [==============================] - 0s 3ms/step - loss: 0.0409 - accuracy: 0.9914\n",
            "Epoch 79/100\n",
            "8/8 [==============================] - 0s 3ms/step - loss: 0.0449 - accuracy: 0.9828\n",
            "Epoch 80/100\n",
            "8/8 [==============================] - 0s 3ms/step - loss: 0.0535 - accuracy: 0.9784\n",
            "Epoch 81/100\n",
            "8/8 [==============================] - 0s 3ms/step - loss: 0.0326 - accuracy: 0.9957\n",
            "Epoch 82/100\n",
            "8/8 [==============================] - 0s 4ms/step - loss: 0.0329 - accuracy: 0.9914\n",
            "Epoch 83/100\n",
            "8/8 [==============================] - 0s 3ms/step - loss: 0.0422 - accuracy: 0.9871\n",
            "Epoch 84/100\n",
            "8/8 [==============================] - 0s 3ms/step - loss: 0.0308 - accuracy: 0.9957\n",
            "Epoch 85/100\n",
            "8/8 [==============================] - 0s 3ms/step - loss: 0.0363 - accuracy: 0.9957\n",
            "Epoch 86/100\n",
            "8/8 [==============================] - 0s 3ms/step - loss: 0.0393 - accuracy: 0.9914\n",
            "Epoch 87/100\n",
            "8/8 [==============================] - 0s 4ms/step - loss: 0.0263 - accuracy: 0.9957\n",
            "Epoch 88/100\n",
            "8/8 [==============================] - 0s 3ms/step - loss: 0.0221 - accuracy: 1.0000\n",
            "Epoch 89/100\n",
            "8/8 [==============================] - 0s 3ms/step - loss: 0.0245 - accuracy: 0.9957\n",
            "Epoch 90/100\n",
            "8/8 [==============================] - 0s 3ms/step - loss: 0.0306 - accuracy: 0.9871\n",
            "Epoch 91/100\n",
            "8/8 [==============================] - 0s 3ms/step - loss: 0.0231 - accuracy: 1.0000\n",
            "Epoch 92/100\n",
            "8/8 [==============================] - 0s 3ms/step - loss: 0.0212 - accuracy: 1.0000\n",
            "Epoch 93/100\n",
            "8/8 [==============================] - 0s 3ms/step - loss: 0.0199 - accuracy: 1.0000\n",
            "Epoch 94/100\n",
            "8/8 [==============================] - 0s 3ms/step - loss: 0.0209 - accuracy: 1.0000\n",
            "Epoch 95/100\n",
            "8/8 [==============================] - 0s 3ms/step - loss: 0.0220 - accuracy: 1.0000\n",
            "Epoch 96/100\n",
            "8/8 [==============================] - 0s 3ms/step - loss: 0.0216 - accuracy: 1.0000\n",
            "Epoch 97/100\n",
            "8/8 [==============================] - 0s 3ms/step - loss: 0.0188 - accuracy: 1.0000\n",
            "Epoch 98/100\n",
            "8/8 [==============================] - 0s 3ms/step - loss: 0.0190 - accuracy: 1.0000\n",
            "Epoch 99/100\n",
            "8/8 [==============================] - 0s 3ms/step - loss: 0.0209 - accuracy: 1.0000\n",
            "Epoch 100/100\n",
            "8/8 [==============================] - 0s 4ms/step - loss: 0.0175 - accuracy: 1.0000\n",
            "4/4 [==============================] - 0s 4ms/step - loss: 0.1756 - accuracy: 0.9397\n",
            "Epoch 1/100\n",
            "8/8 [==============================] - 1s 3ms/step - loss: 0.6934 - accuracy: 0.4784\n",
            "Epoch 2/100\n",
            "8/8 [==============================] - 0s 3ms/step - loss: 0.6929 - accuracy: 0.4957\n",
            "Epoch 3/100\n",
            "8/8 [==============================] - 0s 3ms/step - loss: 0.6928 - accuracy: 0.4957\n",
            "Epoch 4/100\n",
            "8/8 [==============================] - 0s 4ms/step - loss: 0.6920 - accuracy: 0.4957\n",
            "Epoch 5/100\n",
            "8/8 [==============================] - 0s 3ms/step - loss: 0.6913 - accuracy: 0.6422\n",
            "Epoch 6/100\n",
            "8/8 [==============================] - 0s 4ms/step - loss: 0.6895 - accuracy: 0.4957\n",
            "Epoch 7/100\n",
            "8/8 [==============================] - 0s 3ms/step - loss: 0.6877 - accuracy: 0.4957\n",
            "Epoch 8/100\n",
            "8/8 [==============================] - 0s 3ms/step - loss: 0.6820 - accuracy: 0.6034\n",
            "Epoch 9/100\n",
            "8/8 [==============================] - 0s 3ms/step - loss: 0.6763 - accuracy: 0.5388\n",
            "Epoch 10/100\n",
            "8/8 [==============================] - 0s 3ms/step - loss: 0.6683 - accuracy: 0.7457\n",
            "Epoch 11/100\n",
            "8/8 [==============================] - 0s 3ms/step - loss: 0.6529 - accuracy: 0.5345\n",
            "Epoch 12/100\n",
            "8/8 [==============================] - 0s 3ms/step - loss: 0.6356 - accuracy: 0.6638\n",
            "Epoch 13/100\n",
            "8/8 [==============================] - 0s 3ms/step - loss: 0.6101 - accuracy: 0.6336\n",
            "Epoch 14/100\n",
            "8/8 [==============================] - 0s 4ms/step - loss: 0.5866 - accuracy: 0.6853\n",
            "Epoch 15/100\n",
            "8/8 [==============================] - 0s 4ms/step - loss: 0.5581 - accuracy: 0.7802\n",
            "Epoch 16/100\n",
            "8/8 [==============================] - 0s 4ms/step - loss: 0.5450 - accuracy: 0.7629\n",
            "Epoch 17/100\n",
            "8/8 [==============================] - 0s 3ms/step - loss: 0.5382 - accuracy: 0.7586\n",
            "Epoch 18/100\n",
            "8/8 [==============================] - 0s 3ms/step - loss: 0.5078 - accuracy: 0.8491\n",
            "Epoch 19/100\n",
            "8/8 [==============================] - 0s 3ms/step - loss: 0.4866 - accuracy: 0.8836\n",
            "Epoch 20/100\n",
            "8/8 [==============================] - 0s 4ms/step - loss: 0.4680 - accuracy: 0.8534\n",
            "Epoch 21/100\n",
            "8/8 [==============================] - 0s 5ms/step - loss: 0.4547 - accuracy: 0.8664\n",
            "Epoch 22/100\n",
            "8/8 [==============================] - 0s 3ms/step - loss: 0.4567 - accuracy: 0.8534\n",
            "Epoch 23/100\n",
            "8/8 [==============================] - 0s 4ms/step - loss: 0.4718 - accuracy: 0.8707\n",
            "Epoch 24/100\n",
            "8/8 [==============================] - 0s 4ms/step - loss: 0.4258 - accuracy: 0.9095\n",
            "Epoch 25/100\n",
            "8/8 [==============================] - 0s 4ms/step - loss: 0.4167 - accuracy: 0.8966\n",
            "Epoch 26/100\n",
            "8/8 [==============================] - 0s 3ms/step - loss: 0.4032 - accuracy: 0.9138\n",
            "Epoch 27/100\n",
            "8/8 [==============================] - 0s 3ms/step - loss: 0.4020 - accuracy: 0.9310\n",
            "Epoch 28/100\n",
            "8/8 [==============================] - 0s 3ms/step - loss: 0.3891 - accuracy: 0.9224\n",
            "Epoch 29/100\n",
            "8/8 [==============================] - 0s 3ms/step - loss: 0.3892 - accuracy: 0.9483\n",
            "Epoch 30/100\n",
            "8/8 [==============================] - 0s 4ms/step - loss: 0.3933 - accuracy: 0.9353\n",
            "Epoch 31/100\n",
            "8/8 [==============================] - 0s 4ms/step - loss: 0.3746 - accuracy: 0.9181\n",
            "Epoch 32/100\n",
            "8/8 [==============================] - 0s 3ms/step - loss: 0.3801 - accuracy: 0.9353\n",
            "Epoch 33/100\n",
            "8/8 [==============================] - 0s 4ms/step - loss: 0.3667 - accuracy: 0.9440\n",
            "Epoch 34/100\n",
            "8/8 [==============================] - 0s 3ms/step - loss: 0.3561 - accuracy: 0.9526\n",
            "Epoch 35/100\n",
            "8/8 [==============================] - 0s 4ms/step - loss: 0.3524 - accuracy: 0.9483\n",
            "Epoch 36/100\n",
            "8/8 [==============================] - 0s 4ms/step - loss: 0.3488 - accuracy: 0.9483\n",
            "Epoch 37/100\n",
            "8/8 [==============================] - 0s 4ms/step - loss: 0.3436 - accuracy: 0.9612\n",
            "Epoch 38/100\n",
            "8/8 [==============================] - 0s 3ms/step - loss: 0.3383 - accuracy: 0.9483\n",
            "Epoch 39/100\n",
            "8/8 [==============================] - 0s 4ms/step - loss: 0.3345 - accuracy: 0.9483\n",
            "Epoch 40/100\n",
            "8/8 [==============================] - 0s 4ms/step - loss: 0.3371 - accuracy: 0.9698\n",
            "Epoch 41/100\n",
            "8/8 [==============================] - 0s 4ms/step - loss: 0.3357 - accuracy: 0.9698\n",
            "Epoch 42/100\n",
            "8/8 [==============================] - 0s 4ms/step - loss: 0.3254 - accuracy: 0.9526\n",
            "Epoch 43/100\n",
            "8/8 [==============================] - 0s 4ms/step - loss: 0.3240 - accuracy: 0.9569\n",
            "Epoch 44/100\n",
            "8/8 [==============================] - 0s 3ms/step - loss: 0.3205 - accuracy: 0.9784\n",
            "Epoch 45/100\n",
            "8/8 [==============================] - 0s 3ms/step - loss: 0.3142 - accuracy: 0.9655\n",
            "Epoch 46/100\n",
            "8/8 [==============================] - 0s 3ms/step - loss: 0.3100 - accuracy: 0.9741\n",
            "Epoch 47/100\n",
            "8/8 [==============================] - 0s 3ms/step - loss: 0.3077 - accuracy: 0.9612\n",
            "Epoch 48/100\n",
            "8/8 [==============================] - 0s 4ms/step - loss: 0.3045 - accuracy: 0.9741\n",
            "Epoch 49/100\n",
            "8/8 [==============================] - 0s 4ms/step - loss: 0.3015 - accuracy: 0.9655\n",
            "Epoch 50/100\n",
            "8/8 [==============================] - 0s 4ms/step - loss: 0.3093 - accuracy: 0.9698\n",
            "Epoch 51/100\n",
            "8/8 [==============================] - 0s 4ms/step - loss: 0.3052 - accuracy: 0.9612\n",
            "Epoch 52/100\n",
            "8/8 [==============================] - 0s 4ms/step - loss: 0.2971 - accuracy: 0.9612\n",
            "Epoch 53/100\n",
            "8/8 [==============================] - 0s 4ms/step - loss: 0.2934 - accuracy: 0.9698\n",
            "Epoch 54/100\n",
            "8/8 [==============================] - 0s 3ms/step - loss: 0.2973 - accuracy: 0.9741\n",
            "Epoch 55/100\n",
            "8/8 [==============================] - 0s 3ms/step - loss: 0.2882 - accuracy: 0.9741\n",
            "Epoch 56/100\n",
            "8/8 [==============================] - 0s 4ms/step - loss: 0.2844 - accuracy: 0.9784\n",
            "Epoch 57/100\n",
            "8/8 [==============================] - 0s 3ms/step - loss: 0.2837 - accuracy: 0.9914\n",
            "Epoch 58/100\n",
            "8/8 [==============================] - 0s 4ms/step - loss: 0.2819 - accuracy: 0.9784\n",
            "Epoch 59/100\n",
            "8/8 [==============================] - 0s 3ms/step - loss: 0.2786 - accuracy: 0.9741\n",
            "Epoch 60/100\n",
            "8/8 [==============================] - 0s 3ms/step - loss: 0.2761 - accuracy: 0.9828\n",
            "Epoch 61/100\n",
            "8/8 [==============================] - 0s 4ms/step - loss: 0.2768 - accuracy: 0.9828\n",
            "Epoch 62/100\n",
            "8/8 [==============================] - 0s 4ms/step - loss: 0.2722 - accuracy: 0.9871\n",
            "Epoch 63/100\n",
            "8/8 [==============================] - 0s 3ms/step - loss: 0.2691 - accuracy: 0.9871\n",
            "Epoch 64/100\n",
            "8/8 [==============================] - 0s 4ms/step - loss: 0.2657 - accuracy: 0.9828\n",
            "Epoch 65/100\n",
            "8/8 [==============================] - 0s 3ms/step - loss: 0.2702 - accuracy: 0.9828\n",
            "Epoch 66/100\n",
            "8/8 [==============================] - 0s 3ms/step - loss: 0.2668 - accuracy: 0.9914\n",
            "Epoch 67/100\n",
            "8/8 [==============================] - 0s 4ms/step - loss: 0.2632 - accuracy: 0.9871\n",
            "Epoch 68/100\n",
            "8/8 [==============================] - 0s 4ms/step - loss: 0.2606 - accuracy: 0.9914\n",
            "Epoch 69/100\n",
            "8/8 [==============================] - 0s 3ms/step - loss: 0.2580 - accuracy: 0.9828\n",
            "Epoch 70/100\n",
            "8/8 [==============================] - 0s 4ms/step - loss: 0.2565 - accuracy: 0.9871\n",
            "Epoch 71/100\n",
            "8/8 [==============================] - 0s 3ms/step - loss: 0.2543 - accuracy: 0.9871\n",
            "Epoch 72/100\n",
            "8/8 [==============================] - 0s 3ms/step - loss: 0.2519 - accuracy: 0.9914\n",
            "Epoch 73/100\n",
            "8/8 [==============================] - 0s 4ms/step - loss: 0.2527 - accuracy: 0.9828\n",
            "Epoch 74/100\n",
            "8/8 [==============================] - 0s 4ms/step - loss: 0.2484 - accuracy: 0.9871\n",
            "Epoch 75/100\n",
            "8/8 [==============================] - 0s 5ms/step - loss: 0.2460 - accuracy: 0.9914\n",
            "Epoch 76/100\n",
            "8/8 [==============================] - 0s 4ms/step - loss: 0.2604 - accuracy: 0.9828\n",
            "Epoch 77/100\n",
            "8/8 [==============================] - 0s 4ms/step - loss: 0.2482 - accuracy: 0.9828\n",
            "Epoch 78/100\n",
            "8/8 [==============================] - 0s 3ms/step - loss: 0.2461 - accuracy: 0.9871\n",
            "Epoch 79/100\n",
            "8/8 [==============================] - 0s 3ms/step - loss: 0.2380 - accuracy: 0.9957\n",
            "Epoch 80/100\n",
            "8/8 [==============================] - 0s 3ms/step - loss: 0.2505 - accuracy: 0.9871\n",
            "Epoch 81/100\n",
            "8/8 [==============================] - 0s 3ms/step - loss: 0.2467 - accuracy: 0.9741\n",
            "Epoch 82/100\n",
            "8/8 [==============================] - 0s 3ms/step - loss: 0.2458 - accuracy: 0.9784\n",
            "Epoch 83/100\n",
            "8/8 [==============================] - 0s 3ms/step - loss: 0.2417 - accuracy: 0.9914\n",
            "Epoch 84/100\n",
            "8/8 [==============================] - 0s 3ms/step - loss: 0.2388 - accuracy: 0.9914\n",
            "Epoch 85/100\n",
            "8/8 [==============================] - 0s 5ms/step - loss: 0.2369 - accuracy: 0.9871\n",
            "Epoch 86/100\n",
            "8/8 [==============================] - 0s 5ms/step - loss: 0.2452 - accuracy: 0.9871\n",
            "Epoch 87/100\n",
            "8/8 [==============================] - 0s 6ms/step - loss: 0.2409 - accuracy: 0.9914\n",
            "Epoch 88/100\n",
            "8/8 [==============================] - 0s 5ms/step - loss: 0.2402 - accuracy: 0.9914\n",
            "Epoch 89/100\n",
            "8/8 [==============================] - 0s 6ms/step - loss: 0.2385 - accuracy: 0.9871\n",
            "Epoch 90/100\n",
            "8/8 [==============================] - 0s 4ms/step - loss: 0.2345 - accuracy: 0.9914\n",
            "Epoch 91/100\n",
            "8/8 [==============================] - 0s 4ms/step - loss: 0.2260 - accuracy: 0.9957\n",
            "Epoch 92/100\n",
            "8/8 [==============================] - 0s 5ms/step - loss: 0.2243 - accuracy: 0.9914\n",
            "Epoch 93/100\n",
            "8/8 [==============================] - 0s 6ms/step - loss: 0.2240 - accuracy: 0.9914\n",
            "Epoch 94/100\n",
            "8/8 [==============================] - 0s 5ms/step - loss: 0.2242 - accuracy: 0.9914\n",
            "Epoch 95/100\n",
            "8/8 [==============================] - 0s 6ms/step - loss: 0.2205 - accuracy: 0.9914\n",
            "Epoch 96/100\n",
            "8/8 [==============================] - 0s 5ms/step - loss: 0.2172 - accuracy: 0.9957\n",
            "Epoch 97/100\n",
            "8/8 [==============================] - 0s 5ms/step - loss: 0.2267 - accuracy: 0.9871\n",
            "Epoch 98/100\n",
            "8/8 [==============================] - 0s 5ms/step - loss: 0.2148 - accuracy: 0.9957\n",
            "Epoch 99/100\n",
            "8/8 [==============================] - 0s 4ms/step - loss: 0.2123 - accuracy: 0.9957\n",
            "Epoch 100/100\n",
            "8/8 [==============================] - 0s 4ms/step - loss: 0.2125 - accuracy: 0.9957\n",
            "4/4 [==============================] - 0s 5ms/step - loss: 0.3106 - accuracy: 0.8966\n",
            "Accuracy mean: 0.7557471295197805\n",
            "Accuracy variance: 0.23027984094617027\n"
          ]
        }
      ],
      "source": [
        "# Evaluating the ANN\n",
        "from keras.wrappers.scikit_learn import KerasClassifier\n",
        "from sklearn.model_selection import cross_val_score\n",
        "from keras.models import Sequential # initialize neural network library\n",
        "from keras.layers import Dense # build our layers library\n",
        "def build_classifier():\n",
        "    classifier = Sequential() # initialize neural network\n",
        "    classifier.add(Dense(units = 8, kernel_initializer = 'uniform', activation = 'relu', input_dim = x_train.shape[1]))\n",
        "    classifier.add(Dense(units = 4, kernel_initializer = 'uniform', activation = 'relu'))\n",
        "    classifier.add(Dense(units = 1, kernel_initializer = 'uniform', activation = 'sigmoid'))\n",
        "    classifier.compile(optimizer = 'adam', loss = 'binary_crossentropy', metrics = ['accuracy'])\n",
        "    return classifier\n",
        "classifier = KerasClassifier(build_fn = build_classifier, epochs = 100)\n",
        "accuracies = cross_val_score(estimator = classifier, X = x_train, y = y_train, cv = 3)\n",
        "mean = accuracies.mean()\n",
        "variance = accuracies.std()\n",
        "print(\"Accuracy mean: \"+ str(mean))\n",
        "print(\"Accuracy variance: \"+ str(variance))"
      ]
    },
    {
      "cell_type": "code",
      "execution_count": null,
      "metadata": {
        "_uuid": "59ad9da159449a3ed9e99ed0ec931ee14b7aab66",
        "id": "iHMlNxd1znlI"
      },
      "outputs": [],
      "source": []
    }
  ],
  "metadata": {
    "kernelspec": {
      "display_name": "Python 3",
      "language": "python",
      "name": "python3"
    },
    "language_info": {
      "codemirror_mode": {
        "name": "ipython",
        "version": 3
      },
      "file_extension": ".py",
      "mimetype": "text/x-python",
      "name": "python",
      "nbconvert_exporter": "python",
      "pygments_lexer": "ipython3",
      "version": "3.6.6"
    },
    "colab": {
      "provenance": []
    }
  },
  "nbformat": 4,
  "nbformat_minor": 0
}